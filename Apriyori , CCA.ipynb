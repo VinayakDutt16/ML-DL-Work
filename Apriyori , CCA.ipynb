{
 "cells": [
  {
   "cell_type": "code",
   "execution_count": 1,
   "id": "28954764",
   "metadata": {},
   "outputs": [],
   "source": [
    "import numpy as np\n",
    "import pandas as pd"
   ]
  },
  {
   "cell_type": "code",
   "execution_count": 6,
   "id": "951c239a",
   "metadata": {},
   "outputs": [],
   "source": [
    "df = pd.read_csv(\"C:\\\\Users\\\\HP\\\\market_basket.csv\",header = None)"
   ]
  },
  {
   "cell_type": "code",
   "execution_count": 7,
   "id": "38e33654",
   "metadata": {},
   "outputs": [
    {
     "data": {
      "text/html": [
       "<div>\n",
       "<style scoped>\n",
       "    .dataframe tbody tr th:only-of-type {\n",
       "        vertical-align: middle;\n",
       "    }\n",
       "\n",
       "    .dataframe tbody tr th {\n",
       "        vertical-align: top;\n",
       "    }\n",
       "\n",
       "    .dataframe thead th {\n",
       "        text-align: right;\n",
       "    }\n",
       "</style>\n",
       "<table border=\"1\" class=\"dataframe\">\n",
       "  <thead>\n",
       "    <tr style=\"text-align: right;\">\n",
       "      <th></th>\n",
       "      <th>0</th>\n",
       "      <th>1</th>\n",
       "      <th>2</th>\n",
       "      <th>3</th>\n",
       "      <th>4</th>\n",
       "      <th>5</th>\n",
       "      <th>6</th>\n",
       "      <th>7</th>\n",
       "      <th>8</th>\n",
       "      <th>9</th>\n",
       "      <th>10</th>\n",
       "      <th>11</th>\n",
       "      <th>12</th>\n",
       "      <th>13</th>\n",
       "      <th>14</th>\n",
       "      <th>15</th>\n",
       "      <th>16</th>\n",
       "      <th>17</th>\n",
       "      <th>18</th>\n",
       "      <th>19</th>\n",
       "    </tr>\n",
       "  </thead>\n",
       "  <tbody>\n",
       "    <tr>\n",
       "      <th>0</th>\n",
       "      <td>shrimp</td>\n",
       "      <td>almonds</td>\n",
       "      <td>avocado</td>\n",
       "      <td>vegetables mix</td>\n",
       "      <td>green grapes</td>\n",
       "      <td>whole weat flour</td>\n",
       "      <td>yams</td>\n",
       "      <td>cottage cheese</td>\n",
       "      <td>energy drink</td>\n",
       "      <td>tomato juice</td>\n",
       "      <td>low fat yogurt</td>\n",
       "      <td>green tea</td>\n",
       "      <td>honey</td>\n",
       "      <td>salad</td>\n",
       "      <td>mineral water</td>\n",
       "      <td>salmon</td>\n",
       "      <td>antioxydant juice</td>\n",
       "      <td>frozen smoothie</td>\n",
       "      <td>spinach</td>\n",
       "      <td>olive oil</td>\n",
       "    </tr>\n",
       "    <tr>\n",
       "      <th>1</th>\n",
       "      <td>burgers</td>\n",
       "      <td>meatballs</td>\n",
       "      <td>eggs</td>\n",
       "      <td>NaN</td>\n",
       "      <td>NaN</td>\n",
       "      <td>NaN</td>\n",
       "      <td>NaN</td>\n",
       "      <td>NaN</td>\n",
       "      <td>NaN</td>\n",
       "      <td>NaN</td>\n",
       "      <td>NaN</td>\n",
       "      <td>NaN</td>\n",
       "      <td>NaN</td>\n",
       "      <td>NaN</td>\n",
       "      <td>NaN</td>\n",
       "      <td>NaN</td>\n",
       "      <td>NaN</td>\n",
       "      <td>NaN</td>\n",
       "      <td>NaN</td>\n",
       "      <td>NaN</td>\n",
       "    </tr>\n",
       "    <tr>\n",
       "      <th>2</th>\n",
       "      <td>chutney</td>\n",
       "      <td>NaN</td>\n",
       "      <td>NaN</td>\n",
       "      <td>NaN</td>\n",
       "      <td>NaN</td>\n",
       "      <td>NaN</td>\n",
       "      <td>NaN</td>\n",
       "      <td>NaN</td>\n",
       "      <td>NaN</td>\n",
       "      <td>NaN</td>\n",
       "      <td>NaN</td>\n",
       "      <td>NaN</td>\n",
       "      <td>NaN</td>\n",
       "      <td>NaN</td>\n",
       "      <td>NaN</td>\n",
       "      <td>NaN</td>\n",
       "      <td>NaN</td>\n",
       "      <td>NaN</td>\n",
       "      <td>NaN</td>\n",
       "      <td>NaN</td>\n",
       "    </tr>\n",
       "    <tr>\n",
       "      <th>3</th>\n",
       "      <td>turkey</td>\n",
       "      <td>avocado</td>\n",
       "      <td>NaN</td>\n",
       "      <td>NaN</td>\n",
       "      <td>NaN</td>\n",
       "      <td>NaN</td>\n",
       "      <td>NaN</td>\n",
       "      <td>NaN</td>\n",
       "      <td>NaN</td>\n",
       "      <td>NaN</td>\n",
       "      <td>NaN</td>\n",
       "      <td>NaN</td>\n",
       "      <td>NaN</td>\n",
       "      <td>NaN</td>\n",
       "      <td>NaN</td>\n",
       "      <td>NaN</td>\n",
       "      <td>NaN</td>\n",
       "      <td>NaN</td>\n",
       "      <td>NaN</td>\n",
       "      <td>NaN</td>\n",
       "    </tr>\n",
       "    <tr>\n",
       "      <th>4</th>\n",
       "      <td>mineral water</td>\n",
       "      <td>milk</td>\n",
       "      <td>energy bar</td>\n",
       "      <td>whole wheat rice</td>\n",
       "      <td>green tea</td>\n",
       "      <td>NaN</td>\n",
       "      <td>NaN</td>\n",
       "      <td>NaN</td>\n",
       "      <td>NaN</td>\n",
       "      <td>NaN</td>\n",
       "      <td>NaN</td>\n",
       "      <td>NaN</td>\n",
       "      <td>NaN</td>\n",
       "      <td>NaN</td>\n",
       "      <td>NaN</td>\n",
       "      <td>NaN</td>\n",
       "      <td>NaN</td>\n",
       "      <td>NaN</td>\n",
       "      <td>NaN</td>\n",
       "      <td>NaN</td>\n",
       "    </tr>\n",
       "  </tbody>\n",
       "</table>\n",
       "</div>"
      ],
      "text/plain": [
       "              0          1           2                 3             4   \\\n",
       "0         shrimp    almonds     avocado    vegetables mix  green grapes   \n",
       "1        burgers  meatballs        eggs               NaN           NaN   \n",
       "2        chutney        NaN         NaN               NaN           NaN   \n",
       "3         turkey    avocado         NaN               NaN           NaN   \n",
       "4  mineral water       milk  energy bar  whole wheat rice     green tea   \n",
       "\n",
       "                 5     6               7             8             9   \\\n",
       "0  whole weat flour  yams  cottage cheese  energy drink  tomato juice   \n",
       "1               NaN   NaN             NaN           NaN           NaN   \n",
       "2               NaN   NaN             NaN           NaN           NaN   \n",
       "3               NaN   NaN             NaN           NaN           NaN   \n",
       "4               NaN   NaN             NaN           NaN           NaN   \n",
       "\n",
       "               10         11     12     13             14      15  \\\n",
       "0  low fat yogurt  green tea  honey  salad  mineral water  salmon   \n",
       "1             NaN        NaN    NaN    NaN            NaN     NaN   \n",
       "2             NaN        NaN    NaN    NaN            NaN     NaN   \n",
       "3             NaN        NaN    NaN    NaN            NaN     NaN   \n",
       "4             NaN        NaN    NaN    NaN            NaN     NaN   \n",
       "\n",
       "                  16               17       18         19  \n",
       "0  antioxydant juice  frozen smoothie  spinach  olive oil  \n",
       "1                NaN              NaN      NaN        NaN  \n",
       "2                NaN              NaN      NaN        NaN  \n",
       "3                NaN              NaN      NaN        NaN  \n",
       "4                NaN              NaN      NaN        NaN  "
      ]
     },
     "execution_count": 7,
     "metadata": {},
     "output_type": "execute_result"
    }
   ],
   "source": [
    "df.head()"
   ]
  },
  {
   "cell_type": "code",
   "execution_count": 8,
   "id": "ef489a28",
   "metadata": {},
   "outputs": [
    {
     "data": {
      "text/plain": [
       "(7501, 20)"
      ]
     },
     "execution_count": 8,
     "metadata": {},
     "output_type": "execute_result"
    }
   ],
   "source": [
    "df.shape"
   ]
  },
  {
   "cell_type": "code",
   "execution_count": 9,
   "id": "2ad5bace",
   "metadata": {},
   "outputs": [
    {
     "name": "stdout",
     "output_type": "stream",
     "text": [
      "Requirement already satisfied: apyori in c:\\users\\hp\\anaconda3\\lib\\site-packages (1.1.2)\n",
      "Note: you may need to restart the kernel to use updated packages.\n"
     ]
    }
   ],
   "source": [
    "pip install apyori"
   ]
  },
  {
   "cell_type": "code",
   "execution_count": 11,
   "id": "ca7951a5",
   "metadata": {},
   "outputs": [],
   "source": [
    "# Data Processing\n",
    "transactions = []\n",
    "for i in range(0,7501):\n",
    "    transactions.append([str(df.values[i,j]) for j in range(0,20)])\n",
    "    \n",
    "# Training the Dataset\n",
    "from apyori import apriori\n",
    "rules = apriori(transactions, min_support = 0.03, min_confidence = 0.02 ,min_left = 3, min_length =2)\n",
    "# (3items *  7 days in week )\n",
    "\n",
    "\n",
    "a = list(rules)\n",
    "result = [list(a[i][0]) for i in range(0, len(a))]"
   ]
  },
  {
   "cell_type": "code",
   "execution_count": 12,
   "id": "f77330a4",
   "metadata": {},
   "outputs": [
    {
     "data": {
      "text/plain": [
       "[RelationRecord(items=frozenset({'avocado'}), support=0.03332888948140248, ordered_statistics=[OrderedStatistic(items_base=frozenset(), items_add=frozenset({'avocado'}), confidence=0.03332888948140248, lift=1.0)]),\n",
       " RelationRecord(items=frozenset({'brownies'}), support=0.03372883615517931, ordered_statistics=[OrderedStatistic(items_base=frozenset(), items_add=frozenset({'brownies'}), confidence=0.03372883615517931, lift=1.0)]),\n",
       " RelationRecord(items=frozenset({'burgers'}), support=0.0871883748833489, ordered_statistics=[OrderedStatistic(items_base=frozenset(), items_add=frozenset({'burgers'}), confidence=0.0871883748833489, lift=1.0)]),\n",
       " RelationRecord(items=frozenset({'butter'}), support=0.030129316091187842, ordered_statistics=[OrderedStatistic(items_base=frozenset(), items_add=frozenset({'butter'}), confidence=0.030129316091187842, lift=1.0)]),\n",
       " RelationRecord(items=frozenset({'cake'}), support=0.08105585921877083, ordered_statistics=[OrderedStatistic(items_base=frozenset(), items_add=frozenset({'cake'}), confidence=0.08105585921877083, lift=1.0)]),\n",
       " RelationRecord(items=frozenset({'champagne'}), support=0.04679376083188908, ordered_statistics=[OrderedStatistic(items_base=frozenset(), items_add=frozenset({'champagne'}), confidence=0.04679376083188908, lift=1.0)]),\n",
       " RelationRecord(items=frozenset({'chicken'}), support=0.05999200106652446, ordered_statistics=[OrderedStatistic(items_base=frozenset(), items_add=frozenset({'chicken'}), confidence=0.05999200106652446, lift=1.0)]),\n",
       " RelationRecord(items=frozenset({'chocolate'}), support=0.1638448206905746, ordered_statistics=[OrderedStatistic(items_base=frozenset(), items_add=frozenset({'chocolate'}), confidence=0.1638448206905746, lift=1.0)]),\n",
       " RelationRecord(items=frozenset({'cookies'}), support=0.08038928142914278, ordered_statistics=[OrderedStatistic(items_base=frozenset(), items_add=frozenset({'cookies'}), confidence=0.08038928142914278, lift=1.0)]),\n",
       " RelationRecord(items=frozenset({'cooking oil'}), support=0.0510598586855086, ordered_statistics=[OrderedStatistic(items_base=frozenset(), items_add=frozenset({'cooking oil'}), confidence=0.0510598586855086, lift=1.0)]),\n",
       " RelationRecord(items=frozenset({'cottage cheese'}), support=0.03186241834422077, ordered_statistics=[OrderedStatistic(items_base=frozenset(), items_add=frozenset({'cottage cheese'}), confidence=0.03186241834422077, lift=1.0)]),\n",
       " RelationRecord(items=frozenset({'eggs'}), support=0.17970937208372217, ordered_statistics=[OrderedStatistic(items_base=frozenset(), items_add=frozenset({'eggs'}), confidence=0.17970937208372217, lift=1.0)]),\n",
       " RelationRecord(items=frozenset({'escalope'}), support=0.0793227569657379, ordered_statistics=[OrderedStatistic(items_base=frozenset(), items_add=frozenset({'escalope'}), confidence=0.0793227569657379, lift=1.0)]),\n",
       " RelationRecord(items=frozenset({'french fries'}), support=0.1709105452606319, ordered_statistics=[OrderedStatistic(items_base=frozenset(), items_add=frozenset({'french fries'}), confidence=0.1709105452606319, lift=1.0)]),\n",
       " RelationRecord(items=frozenset({'fresh bread'}), support=0.043060925209972005, ordered_statistics=[OrderedStatistic(items_base=frozenset(), items_add=frozenset({'fresh bread'}), confidence=0.043060925209972005, lift=1.0)]),\n",
       " RelationRecord(items=frozenset({'frozen smoothie'}), support=0.06332489001466471, ordered_statistics=[OrderedStatistic(items_base=frozenset(), items_add=frozenset({'frozen smoothie'}), confidence=0.06332489001466471, lift=1.0)]),\n",
       " RelationRecord(items=frozenset({'frozen vegetables'}), support=0.09532062391681109, ordered_statistics=[OrderedStatistic(items_base=frozenset(), items_add=frozenset({'frozen vegetables'}), confidence=0.09532062391681109, lift=1.0)]),\n",
       " RelationRecord(items=frozenset({'grated cheese'}), support=0.0523930142647647, ordered_statistics=[OrderedStatistic(items_base=frozenset(), items_add=frozenset({'grated cheese'}), confidence=0.0523930142647647, lift=1.0)]),\n",
       " RelationRecord(items=frozenset({'green tea'}), support=0.13211571790427942, ordered_statistics=[OrderedStatistic(items_base=frozenset(), items_add=frozenset({'green tea'}), confidence=0.13211571790427942, lift=1.0)]),\n",
       " RelationRecord(items=frozenset({'ground beef'}), support=0.09825356619117451, ordered_statistics=[OrderedStatistic(items_base=frozenset(), items_add=frozenset({'ground beef'}), confidence=0.09825356619117451, lift=1.0)]),\n",
       " RelationRecord(items=frozenset({'herb & pepper'}), support=0.04946007199040128, ordered_statistics=[OrderedStatistic(items_base=frozenset(), items_add=frozenset({'herb & pepper'}), confidence=0.04946007199040128, lift=1.0)]),\n",
       " RelationRecord(items=frozenset({'honey'}), support=0.047460338621517134, ordered_statistics=[OrderedStatistic(items_base=frozenset(), items_add=frozenset({'honey'}), confidence=0.047460338621517134, lift=1.0)]),\n",
       " RelationRecord(items=frozenset({'hot dogs'}), support=0.03239568057592321, ordered_statistics=[OrderedStatistic(items_base=frozenset(), items_add=frozenset({'hot dogs'}), confidence=0.03239568057592321, lift=1.0)]),\n",
       " RelationRecord(items=frozenset({'low fat yogurt'}), support=0.07652313024930009, ordered_statistics=[OrderedStatistic(items_base=frozenset(), items_add=frozenset({'low fat yogurt'}), confidence=0.07652313024930009, lift=1.0)]),\n",
       " RelationRecord(items=frozenset({'milk'}), support=0.12958272230369283, ordered_statistics=[OrderedStatistic(items_base=frozenset(), items_add=frozenset({'milk'}), confidence=0.12958272230369283, lift=1.0)]),\n",
       " RelationRecord(items=frozenset({'mineral water'}), support=0.23836821757099053, ordered_statistics=[OrderedStatistic(items_base=frozenset(), items_add=frozenset({'mineral water'}), confidence=0.23836821757099053, lift=1.0)]),\n",
       " RelationRecord(items=frozenset({'nan'}), support=0.9998666844420744, ordered_statistics=[OrderedStatistic(items_base=frozenset(), items_add=frozenset({'nan'}), confidence=0.9998666844420744, lift=1.0)]),\n",
       " RelationRecord(items=frozenset({'olive oil'}), support=0.0658578856152513, ordered_statistics=[OrderedStatistic(items_base=frozenset(), items_add=frozenset({'olive oil'}), confidence=0.0658578856152513, lift=1.0)]),\n",
       " RelationRecord(items=frozenset({'pancakes'}), support=0.09505399280095987, ordered_statistics=[OrderedStatistic(items_base=frozenset(), items_add=frozenset({'pancakes'}), confidence=0.09505399280095987, lift=1.0)]),\n",
       " RelationRecord(items=frozenset({'salmon'}), support=0.04252766297826956, ordered_statistics=[OrderedStatistic(items_base=frozenset(), items_add=frozenset({'salmon'}), confidence=0.04252766297826956, lift=1.0)]),\n",
       " RelationRecord(items=frozenset({'shrimp'}), support=0.07145713904812692, ordered_statistics=[OrderedStatistic(items_base=frozenset(), items_add=frozenset({'shrimp'}), confidence=0.07145713904812692, lift=1.0)]),\n",
       " RelationRecord(items=frozenset({'soup'}), support=0.05052659645380616, ordered_statistics=[OrderedStatistic(items_base=frozenset(), items_add=frozenset({'soup'}), confidence=0.05052659645380616, lift=1.0)]),\n",
       " RelationRecord(items=frozenset({'spaghetti'}), support=0.17411011865084655, ordered_statistics=[OrderedStatistic(items_base=frozenset(), items_add=frozenset({'spaghetti'}), confidence=0.17411011865084655, lift=1.0)]),\n",
       " RelationRecord(items=frozenset({'tomato juice'}), support=0.030395947207039063, ordered_statistics=[OrderedStatistic(items_base=frozenset(), items_add=frozenset({'tomato juice'}), confidence=0.030395947207039063, lift=1.0)]),\n",
       " RelationRecord(items=frozenset({'tomatoes'}), support=0.06839088121583789, ordered_statistics=[OrderedStatistic(items_base=frozenset(), items_add=frozenset({'tomatoes'}), confidence=0.06839088121583789, lift=1.0)]),\n",
       " RelationRecord(items=frozenset({'turkey'}), support=0.06252499666711105, ordered_statistics=[OrderedStatistic(items_base=frozenset(), items_add=frozenset({'turkey'}), confidence=0.06252499666711105, lift=1.0)]),\n",
       " RelationRecord(items=frozenset({'whole wheat rice'}), support=0.058525529929342755, ordered_statistics=[OrderedStatistic(items_base=frozenset(), items_add=frozenset({'whole wheat rice'}), confidence=0.058525529929342755, lift=1.0)]),\n",
       " RelationRecord(items=frozenset({'nan', 'avocado'}), support=0.03319557392347687, ordered_statistics=[OrderedStatistic(items_base=frozenset(), items_add=frozenset({'nan', 'avocado'}), confidence=0.03319557392347687, lift=1.0), OrderedStatistic(items_base=frozenset({'avocado'}), items_add=frozenset({'nan'}), confidence=0.996, lift=0.9961328), OrderedStatistic(items_base=frozenset({'nan'}), items_add=frozenset({'avocado'}), confidence=0.0332, lift=0.9961327999999999)]),\n",
       " RelationRecord(items=frozenset({'nan', 'brownies'}), support=0.03372883615517931, ordered_statistics=[OrderedStatistic(items_base=frozenset(), items_add=frozenset({'nan', 'brownies'}), confidence=0.03372883615517931, lift=1.0), OrderedStatistic(items_base=frozenset({'brownies'}), items_add=frozenset({'nan'}), confidence=1.0, lift=1.0001333333333333), OrderedStatistic(items_base=frozenset({'nan'}), items_add=frozenset({'brownies'}), confidence=0.03373333333333334, lift=1.0001333333333333)]),\n",
       " RelationRecord(items=frozenset({'nan', 'burgers'}), support=0.0871883748833489, ordered_statistics=[OrderedStatistic(items_base=frozenset(), items_add=frozenset({'nan', 'burgers'}), confidence=0.0871883748833489, lift=1.0), OrderedStatistic(items_base=frozenset({'burgers'}), items_add=frozenset({'nan'}), confidence=1.0, lift=1.0001333333333333), OrderedStatistic(items_base=frozenset({'nan'}), items_add=frozenset({'burgers'}), confidence=0.08720000000000001, lift=1.0001333333333333)]),\n",
       " RelationRecord(items=frozenset({'nan', 'butter'}), support=0.030129316091187842, ordered_statistics=[OrderedStatistic(items_base=frozenset(), items_add=frozenset({'nan', 'butter'}), confidence=0.030129316091187842, lift=1.0), OrderedStatistic(items_base=frozenset({'butter'}), items_add=frozenset({'nan'}), confidence=1.0, lift=1.0001333333333333), OrderedStatistic(items_base=frozenset({'nan'}), items_add=frozenset({'butter'}), confidence=0.030133333333333335, lift=1.0001333333333333)]),\n",
       " RelationRecord(items=frozenset({'cake', 'nan'}), support=0.08105585921877083, ordered_statistics=[OrderedStatistic(items_base=frozenset(), items_add=frozenset({'cake', 'nan'}), confidence=0.08105585921877083, lift=1.0), OrderedStatistic(items_base=frozenset({'cake'}), items_add=frozenset({'nan'}), confidence=1.0, lift=1.0001333333333333), OrderedStatistic(items_base=frozenset({'nan'}), items_add=frozenset({'cake'}), confidence=0.08106666666666666, lift=1.0001333333333333)]),\n",
       " RelationRecord(items=frozenset({'nan', 'champagne'}), support=0.04679376083188908, ordered_statistics=[OrderedStatistic(items_base=frozenset(), items_add=frozenset({'nan', 'champagne'}), confidence=0.04679376083188908, lift=1.0), OrderedStatistic(items_base=frozenset({'champagne'}), items_add=frozenset({'nan'}), confidence=1.0, lift=1.0001333333333333), OrderedStatistic(items_base=frozenset({'nan'}), items_add=frozenset({'champagne'}), confidence=0.0468, lift=1.0001333333333333)]),\n",
       " RelationRecord(items=frozenset({'nan', 'chicken'}), support=0.05999200106652446, ordered_statistics=[OrderedStatistic(items_base=frozenset(), items_add=frozenset({'nan', 'chicken'}), confidence=0.05999200106652446, lift=1.0), OrderedStatistic(items_base=frozenset({'chicken'}), items_add=frozenset({'nan'}), confidence=1.0, lift=1.0001333333333333), OrderedStatistic(items_base=frozenset({'nan'}), items_add=frozenset({'chicken'}), confidence=0.06, lift=1.0001333333333333)]),\n",
       " RelationRecord(items=frozenset({'chocolate', 'eggs'}), support=0.03319557392347687, ordered_statistics=[OrderedStatistic(items_base=frozenset(), items_add=frozenset({'chocolate', 'eggs'}), confidence=0.03319557392347687, lift=1.0), OrderedStatistic(items_base=frozenset({'chocolate'}), items_add=frozenset({'eggs'}), confidence=0.20260374288039054, lift=1.1273966434316094), OrderedStatistic(items_base=frozenset({'eggs'}), items_add=frozenset({'chocolate'}), confidence=0.1847181008902077, lift=1.1273966434316094)]),\n",
       " RelationRecord(items=frozenset({'chocolate', 'french fries'}), support=0.03439541394480736, ordered_statistics=[OrderedStatistic(items_base=frozenset(), items_add=frozenset({'chocolate', 'french fries'}), confidence=0.03439541394480736, lift=1.0), OrderedStatistic(items_base=frozenset({'chocolate'}), items_add=frozenset({'french fries'}), confidence=0.209926769731489, lift=1.2282844771886887), OrderedStatistic(items_base=frozenset({'french fries'}), items_add=frozenset({'chocolate'}), confidence=0.20124804992199688, lift=1.2282844771886887)]),\n",
       " RelationRecord(items=frozenset({'chocolate', 'milk'}), support=0.03212904946007199, ordered_statistics=[OrderedStatistic(items_base=frozenset(), items_add=frozenset({'chocolate', 'milk'}), confidence=0.03212904946007199, lift=1.0), OrderedStatistic(items_base=frozenset({'chocolate'}), items_add=frozenset({'milk'}), confidence=0.19609438567941412, lift=1.5132757067708698), OrderedStatistic(items_base=frozenset({'milk'}), items_add=frozenset({'chocolate'}), confidence=0.2479423868312757, lift=1.5132757067708698)]),\n",
       " RelationRecord(items=frozenset({'chocolate', 'mineral water'}), support=0.05265964538061592, ordered_statistics=[OrderedStatistic(items_base=frozenset(), items_add=frozenset({'chocolate', 'mineral water'}), confidence=0.05265964538061592, lift=1.0), OrderedStatistic(items_base=frozenset({'chocolate'}), items_add=frozenset({'mineral water'}), confidence=0.3213995117982099, lift=1.3483320682317521), OrderedStatistic(items_base=frozenset({'mineral water'}), items_add=frozenset({'chocolate'}), confidence=0.220917225950783, lift=1.348332068231752)]),\n",
       " RelationRecord(items=frozenset({'chocolate', 'nan'}), support=0.1638448206905746, ordered_statistics=[OrderedStatistic(items_base=frozenset(), items_add=frozenset({'chocolate', 'nan'}), confidence=0.1638448206905746, lift=1.0), OrderedStatistic(items_base=frozenset({'chocolate'}), items_add=frozenset({'nan'}), confidence=1.0, lift=1.0001333333333333), OrderedStatistic(items_base=frozenset({'nan'}), items_add=frozenset({'chocolate'}), confidence=0.1638666666666667, lift=1.0001333333333333)]),\n",
       " RelationRecord(items=frozenset({'chocolate', 'spaghetti'}), support=0.03919477403012932, ordered_statistics=[OrderedStatistic(items_base=frozenset(), items_add=frozenset({'chocolate', 'spaghetti'}), confidence=0.03919477403012932, lift=1.0), OrderedStatistic(items_base=frozenset({'chocolate'}), items_add=frozenset({'spaghetti'}), confidence=0.23921887713588283, lift=1.3739516059695691), OrderedStatistic(items_base=frozenset({'spaghetti'}), items_add=frozenset({'chocolate'}), confidence=0.22511485451761104, lift=1.3739516059695691)]),\n",
       " RelationRecord(items=frozenset({'nan', 'cookies'}), support=0.08038928142914278, ordered_statistics=[OrderedStatistic(items_base=frozenset(), items_add=frozenset({'nan', 'cookies'}), confidence=0.08038928142914278, lift=1.0), OrderedStatistic(items_base=frozenset({'cookies'}), items_add=frozenset({'nan'}), confidence=1.0, lift=1.0001333333333333), OrderedStatistic(items_base=frozenset({'nan'}), items_add=frozenset({'cookies'}), confidence=0.0804, lift=1.0001333333333333)]),\n",
       " RelationRecord(items=frozenset({'nan', 'cooking oil'}), support=0.0510598586855086, ordered_statistics=[OrderedStatistic(items_base=frozenset(), items_add=frozenset({'nan', 'cooking oil'}), confidence=0.0510598586855086, lift=1.0), OrderedStatistic(items_base=frozenset({'cooking oil'}), items_add=frozenset({'nan'}), confidence=1.0, lift=1.0001333333333333), OrderedStatistic(items_base=frozenset({'nan'}), items_add=frozenset({'cooking oil'}), confidence=0.05106666666666667, lift=1.0001333333333333)]),\n",
       " RelationRecord(items=frozenset({'nan', 'cottage cheese'}), support=0.03172910278629516, ordered_statistics=[OrderedStatistic(items_base=frozenset(), items_add=frozenset({'nan', 'cottage cheese'}), confidence=0.03172910278629516, lift=1.0), OrderedStatistic(items_base=frozenset({'cottage cheese'}), items_add=frozenset({'nan'}), confidence=0.9958158995815899, lift=0.9959486750348674), OrderedStatistic(items_base=frozenset({'nan'}), items_add=frozenset({'cottage cheese'}), confidence=0.031733333333333336, lift=0.9959486750348675)]),\n",
       " RelationRecord(items=frozenset({'eggs', 'french fries'}), support=0.036395147313691506, ordered_statistics=[OrderedStatistic(items_base=frozenset(), items_add=frozenset({'eggs', 'french fries'}), confidence=0.036395147313691506, lift=1.0), OrderedStatistic(items_base=frozenset({'eggs'}), items_add=frozenset({'french fries'}), confidence=0.20252225519287834, lift=1.1849605586597352), OrderedStatistic(items_base=frozenset({'french fries'}), items_add=frozenset({'eggs'}), confidence=0.21294851794071765, lift=1.1849605586597352)]),\n",
       " RelationRecord(items=frozenset({'milk', 'eggs'}), support=0.03079589388081589, ordered_statistics=[OrderedStatistic(items_base=frozenset(), items_add=frozenset({'milk', 'eggs'}), confidence=0.03079589388081589, lift=1.0), OrderedStatistic(items_base=frozenset({'eggs'}), items_add=frozenset({'milk'}), confidence=0.17136498516320472, lift=1.322436989412756), OrderedStatistic(items_base=frozenset({'milk'}), items_add=frozenset({'eggs'}), confidence=0.23765432098765432, lift=1.322436989412756)]),\n",
       " RelationRecord(items=frozenset({'mineral water', 'eggs'}), support=0.05092654312758299, ordered_statistics=[OrderedStatistic(items_base=frozenset(), items_add=frozenset({'eggs', 'mineral water'}), confidence=0.05092654312758299, lift=1.0), OrderedStatistic(items_base=frozenset({'eggs'}), items_add=frozenset({'mineral water'}), confidence=0.28338278931750743, lift=1.188844688294532), OrderedStatistic(items_base=frozenset({'mineral water'}), items_add=frozenset({'eggs'}), confidence=0.21364653243847875, lift=1.188844688294532)]),\n",
       " RelationRecord(items=frozenset({'nan', 'eggs'}), support=0.17970937208372217, ordered_statistics=[OrderedStatistic(items_base=frozenset(), items_add=frozenset({'nan', 'eggs'}), confidence=0.17970937208372217, lift=1.0), OrderedStatistic(items_base=frozenset({'eggs'}), items_add=frozenset({'nan'}), confidence=1.0, lift=1.0001333333333333), OrderedStatistic(items_base=frozenset({'nan'}), items_add=frozenset({'eggs'}), confidence=0.17973333333333333, lift=1.0001333333333333)]),\n",
       " RelationRecord(items=frozenset({'spaghetti', 'eggs'}), support=0.036528462871617116, ordered_statistics=[OrderedStatistic(items_base=frozenset(), items_add=frozenset({'eggs', 'spaghetti'}), confidence=0.036528462871617116, lift=1.0), OrderedStatistic(items_base=frozenset({'eggs'}), items_add=frozenset({'spaghetti'}), confidence=0.2032640949554896, lift=1.1674456173515526), OrderedStatistic(items_base=frozenset({'spaghetti'}), items_add=frozenset({'eggs'}), confidence=0.20980091883614088, lift=1.1674456173515524)]),\n",
       " RelationRecord(items=frozenset({'nan', 'escalope'}), support=0.0793227569657379, ordered_statistics=[OrderedStatistic(items_base=frozenset(), items_add=frozenset({'nan', 'escalope'}), confidence=0.0793227569657379, lift=1.0), OrderedStatistic(items_base=frozenset({'escalope'}), items_add=frozenset({'nan'}), confidence=1.0, lift=1.0001333333333333), OrderedStatistic(items_base=frozenset({'nan'}), items_add=frozenset({'escalope'}), confidence=0.07933333333333334, lift=1.0001333333333333)]),\n",
       " RelationRecord(items=frozenset({'mineral water', 'french fries'}), support=0.03372883615517931, ordered_statistics=[OrderedStatistic(items_base=frozenset(), items_add=frozenset({'mineral water', 'french fries'}), confidence=0.03372883615517931, lift=1.0), OrderedStatistic(items_base=frozenset({'french fries'}), items_add=frozenset({'mineral water'}), confidence=0.19734789391575666, lift=0.8279119419810351), OrderedStatistic(items_base=frozenset({'mineral water'}), items_add=frozenset({'french fries'}), confidence=0.14149888143176736, lift=0.8279119419810351)]),\n",
       " RelationRecord(items=frozenset({'nan', 'french fries'}), support=0.1709105452606319, ordered_statistics=[OrderedStatistic(items_base=frozenset(), items_add=frozenset({'nan', 'french fries'}), confidence=0.1709105452606319, lift=1.0), OrderedStatistic(items_base=frozenset({'french fries'}), items_add=frozenset({'nan'}), confidence=1.0, lift=1.0001333333333333), OrderedStatistic(items_base=frozenset({'nan'}), items_add=frozenset({'french fries'}), confidence=0.17093333333333333, lift=1.0001333333333333)]),\n",
       " RelationRecord(items=frozenset({'nan', 'fresh bread'}), support=0.043060925209972005, ordered_statistics=[OrderedStatistic(items_base=frozenset(), items_add=frozenset({'nan', 'fresh bread'}), confidence=0.043060925209972005, lift=1.0), OrderedStatistic(items_base=frozenset({'fresh bread'}), items_add=frozenset({'nan'}), confidence=1.0, lift=1.0001333333333333), OrderedStatistic(items_base=frozenset({'nan'}), items_add=frozenset({'fresh bread'}), confidence=0.04306666666666667, lift=1.0001333333333333)]),\n",
       " RelationRecord(items=frozenset({'nan', 'frozen smoothie'}), support=0.0631915744567391, ordered_statistics=[OrderedStatistic(items_base=frozenset(), items_add=frozenset({'nan', 'frozen smoothie'}), confidence=0.0631915744567391, lift=1.0), OrderedStatistic(items_base=frozenset({'frozen smoothie'}), items_add=frozenset({'nan'}), confidence=0.9978947368421054, lift=0.9980277894736843), OrderedStatistic(items_base=frozenset({'nan'}), items_add=frozenset({'frozen smoothie'}), confidence=0.0632, lift=0.9980277894736843)]),\n",
       " RelationRecord(items=frozenset({'mineral water', 'frozen vegetables'}), support=0.03572856952406346, ordered_statistics=[OrderedStatistic(items_base=frozenset(), items_add=frozenset({'mineral water', 'frozen vegetables'}), confidence=0.03572856952406346, lift=1.0), OrderedStatistic(items_base=frozenset({'frozen vegetables'}), items_add=frozenset({'mineral water'}), confidence=0.37482517482517486, lift=1.57246288387228), OrderedStatistic(items_base=frozenset({'mineral water'}), items_add=frozenset({'frozen vegetables'}), confidence=0.1498881431767338, lift=1.57246288387228)]),\n",
       " RelationRecord(items=frozenset({'nan', 'frozen vegetables'}), support=0.09532062391681109, ordered_statistics=[OrderedStatistic(items_base=frozenset(), items_add=frozenset({'nan', 'frozen vegetables'}), confidence=0.09532062391681109, lift=1.0), OrderedStatistic(items_base=frozenset({'frozen vegetables'}), items_add=frozenset({'nan'}), confidence=1.0, lift=1.0001333333333333), OrderedStatistic(items_base=frozenset({'nan'}), items_add=frozenset({'frozen vegetables'}), confidence=0.09533333333333334, lift=1.0001333333333333)]),\n",
       " RelationRecord(items=frozenset({'nan', 'grated cheese'}), support=0.0523930142647647, ordered_statistics=[OrderedStatistic(items_base=frozenset(), items_add=frozenset({'nan', 'grated cheese'}), confidence=0.0523930142647647, lift=1.0), OrderedStatistic(items_base=frozenset({'grated cheese'}), items_add=frozenset({'nan'}), confidence=1.0, lift=1.0001333333333333), OrderedStatistic(items_base=frozenset({'nan'}), items_add=frozenset({'grated cheese'}), confidence=0.0524, lift=1.0001333333333333)]),\n",
       " RelationRecord(items=frozenset({'green tea', 'mineral water'}), support=0.03106252499666711, ordered_statistics=[OrderedStatistic(items_base=frozenset(), items_add=frozenset({'green tea', 'mineral water'}), confidence=0.03106252499666711, lift=1.0), OrderedStatistic(items_base=frozenset({'green tea'}), items_add=frozenset({'mineral water'}), confidence=0.23511604439959638, lift=0.9863565151238102), OrderedStatistic(items_base=frozenset({'mineral water'}), items_add=frozenset({'green tea'}), confidence=0.1303131991051454, lift=0.9863565151238101)]),\n",
       " RelationRecord(items=frozenset({'green tea', 'nan'}), support=0.13198240234635383, ordered_statistics=[OrderedStatistic(items_base=frozenset(), items_add=frozenset({'green tea', 'nan'}), confidence=0.13198240234635383, lift=1.0), OrderedStatistic(items_base=frozenset({'green tea'}), items_add=frozenset({'nan'}), confidence=0.9989909182643796, lift=0.9991241170534815), OrderedStatistic(items_base=frozenset({'nan'}), items_add=frozenset({'green tea'}), confidence=0.132, lift=0.9991241170534815)]),\n",
       " RelationRecord(items=frozenset({'mineral water', 'ground beef'}), support=0.040927876283162246, ordered_statistics=[OrderedStatistic(items_base=frozenset(), items_add=frozenset({'mineral water', 'ground beef'}), confidence=0.040927876283162246, lift=1.0), OrderedStatistic(items_base=frozenset({'ground beef'}), items_add=frozenset({'mineral water'}), confidence=0.41655359565807326, lift=1.7475215442008991), OrderedStatistic(items_base=frozenset({'mineral water'}), items_add=frozenset({'ground beef'}), confidence=0.17170022371364654, lift=1.7475215442008993)]),\n",
       " RelationRecord(items=frozenset({'nan', 'ground beef'}), support=0.09825356619117451, ordered_statistics=[OrderedStatistic(items_base=frozenset(), items_add=frozenset({'nan', 'ground beef'}), confidence=0.09825356619117451, lift=1.0), OrderedStatistic(items_base=frozenset({'ground beef'}), items_add=frozenset({'nan'}), confidence=1.0, lift=1.0001333333333333), OrderedStatistic(items_base=frozenset({'nan'}), items_add=frozenset({'ground beef'}), confidence=0.09826666666666667, lift=1.0001333333333333)]),\n",
       " RelationRecord(items=frozenset({'spaghetti', 'ground beef'}), support=0.03919477403012932, ordered_statistics=[OrderedStatistic(items_base=frozenset(), items_add=frozenset({'spaghetti', 'ground beef'}), confidence=0.03919477403012932, lift=1.0), OrderedStatistic(items_base=frozenset({'ground beef'}), items_add=frozenset({'spaghetti'}), confidence=0.3989145183175034, lift=2.291162176033379), OrderedStatistic(items_base=frozenset({'spaghetti'}), items_add=frozenset({'ground beef'}), confidence=0.22511485451761104, lift=2.2911621760333793)]),\n",
       " RelationRecord(items=frozenset({'nan', 'herb & pepper'}), support=0.04946007199040128, ordered_statistics=[OrderedStatistic(items_base=frozenset(), items_add=frozenset({'nan', 'herb & pepper'}), confidence=0.04946007199040128, lift=1.0), OrderedStatistic(items_base=frozenset({'herb & pepper'}), items_add=frozenset({'nan'}), confidence=1.0, lift=1.0001333333333333), OrderedStatistic(items_base=frozenset({'nan'}), items_add=frozenset({'herb & pepper'}), confidence=0.04946666666666667, lift=1.0001333333333333)]),\n",
       " RelationRecord(items=frozenset({'honey', 'nan'}), support=0.047327023063591524, ordered_statistics=[OrderedStatistic(items_base=frozenset(), items_add=frozenset({'honey', 'nan'}), confidence=0.047327023063591524, lift=1.0), OrderedStatistic(items_base=frozenset({'honey'}), items_add=frozenset({'nan'}), confidence=0.997191011235955, lift=0.9973239700374531), OrderedStatistic(items_base=frozenset({'nan'}), items_add=frozenset({'honey'}), confidence=0.04733333333333334, lift=0.9973239700374532)]),\n",
       " RelationRecord(items=frozenset({'nan', 'hot dogs'}), support=0.03239568057592321, ordered_statistics=[OrderedStatistic(items_base=frozenset(), items_add=frozenset({'nan', 'hot dogs'}), confidence=0.03239568057592321, lift=1.0), OrderedStatistic(items_base=frozenset({'hot dogs'}), items_add=frozenset({'nan'}), confidence=1.0, lift=1.0001333333333333), OrderedStatistic(items_base=frozenset({'nan'}), items_add=frozenset({'hot dogs'}), confidence=0.0324, lift=1.0001333333333333)]),\n",
       " RelationRecord(items=frozenset({'nan', 'low fat yogurt'}), support=0.07638981469137449, ordered_statistics=[OrderedStatistic(items_base=frozenset(), items_add=frozenset({'nan', 'low fat yogurt'}), confidence=0.07638981469137449, lift=1.0), OrderedStatistic(items_base=frozenset({'low fat yogurt'}), items_add=frozenset({'nan'}), confidence=0.9982578397212545, lift=0.9983909407665507), OrderedStatistic(items_base=frozenset({'nan'}), items_add=frozenset({'low fat yogurt'}), confidence=0.07640000000000001, lift=0.9983909407665507)]),\n",
       " RelationRecord(items=frozenset({'milk', 'mineral water'}), support=0.04799360085321957, ordered_statistics=[OrderedStatistic(items_base=frozenset(), items_add=frozenset({'milk', 'mineral water'}), confidence=0.04799360085321957, lift=1.0), OrderedStatistic(items_base=frozenset({'milk'}), items_add=frozenset({'mineral water'}), confidence=0.3703703703703704, lift=1.5537741320739085), OrderedStatistic(items_base=frozenset({'mineral water'}), items_add=frozenset({'milk'}), confidence=0.20134228187919462, lift=1.5537741320739085)]),\n",
       " RelationRecord(items=frozenset({'nan', 'milk'}), support=0.12958272230369283, ordered_statistics=[OrderedStatistic(items_base=frozenset(), items_add=frozenset({'nan', 'milk'}), confidence=0.12958272230369283, lift=1.0), OrderedStatistic(items_base=frozenset({'milk'}), items_add=frozenset({'nan'}), confidence=1.0, lift=1.0001333333333333), OrderedStatistic(items_base=frozenset({'nan'}), items_add=frozenset({'milk'}), confidence=0.1296, lift=1.0001333333333333)]),\n",
       " RelationRecord(items=frozenset({'milk', 'spaghetti'}), support=0.03546193840821224, ordered_statistics=[OrderedStatistic(items_base=frozenset(), items_add=frozenset({'milk', 'spaghetti'}), confidence=0.03546193840821224, lift=1.0), OrderedStatistic(items_base=frozenset({'milk'}), items_add=frozenset({'spaghetti'}), confidence=0.27366255144032925, lift=1.5717785592296398), OrderedStatistic(items_base=frozenset({'spaghetti'}), items_add=frozenset({'milk'}), confidence=0.20367534456355285, lift=1.57177855922964)]),\n",
       " RelationRecord(items=frozenset({'nan', 'mineral water'}), support=0.23823490201306494, ordered_statistics=[OrderedStatistic(items_base=frozenset(), items_add=frozenset({'nan', 'mineral water'}), confidence=0.23823490201306494, lift=1.0), OrderedStatistic(items_base=frozenset({'mineral water'}), items_add=frozenset({'nan'}), confidence=0.999440715883669, lift=0.9995739746457868), OrderedStatistic(items_base=frozenset({'nan'}), items_add=frozenset({'mineral water'}), confidence=0.23826666666666668, lift=0.9995739746457868)]),\n",
       " RelationRecord(items=frozenset({'pancakes', 'mineral water'}), support=0.03372883615517931, ordered_statistics=[OrderedStatistic(items_base=frozenset(), items_add=frozenset({'pancakes', 'mineral water'}), confidence=0.03372883615517931, lift=1.0), OrderedStatistic(items_base=frozenset({'mineral water'}), items_add=frozenset({'pancakes'}), confidence=0.14149888143176736, lift=1.4886158620191963), OrderedStatistic(items_base=frozenset({'pancakes'}), items_add=frozenset({'mineral water'}), confidence=0.3548387096774194, lift=1.4886158620191963)]),\n",
       " RelationRecord(items=frozenset({'spaghetti', 'mineral water'}), support=0.05972536995067324, ordered_statistics=[OrderedStatistic(items_base=frozenset(), items_add=frozenset({'mineral water', 'spaghetti'}), confidence=0.05972536995067324, lift=1.0), OrderedStatistic(items_base=frozenset({'mineral water'}), items_add=frozenset({'spaghetti'}), confidence=0.2505592841163311, lift=1.4390851379453289), OrderedStatistic(items_base=frozenset({'spaghetti'}), items_add=frozenset({'mineral water'}), confidence=0.3430321592649311, lift=1.4390851379453289)]),\n",
       " RelationRecord(items=frozenset({'nan', 'olive oil'}), support=0.0657245700573257, ordered_statistics=[OrderedStatistic(items_base=frozenset(), items_add=frozenset({'nan', 'olive oil'}), confidence=0.0657245700573257, lift=1.0), OrderedStatistic(items_base=frozenset({'nan'}), items_add=frozenset({'olive oil'}), confidence=0.06573333333333334, lift=0.9981087719298246), OrderedStatistic(items_base=frozenset({'olive oil'}), items_add=frozenset({'nan'}), confidence=0.9979757085020244, lift=0.9981087719298247)]),\n",
       " RelationRecord(items=frozenset({'nan', 'pancakes'}), support=0.09505399280095987, ordered_statistics=[OrderedStatistic(items_base=frozenset(), items_add=frozenset({'nan', 'pancakes'}), confidence=0.09505399280095987, lift=1.0), OrderedStatistic(items_base=frozenset({'nan'}), items_add=frozenset({'pancakes'}), confidence=0.09506666666666666, lift=1.0001333333333333), OrderedStatistic(items_base=frozenset({'pancakes'}), items_add=frozenset({'nan'}), confidence=1.0, lift=1.0001333333333333)]),\n",
       " RelationRecord(items=frozenset({'nan', 'salmon'}), support=0.04239434742034395, ordered_statistics=[OrderedStatistic(items_base=frozenset(), items_add=frozenset({'nan', 'salmon'}), confidence=0.04239434742034395, lift=1.0), OrderedStatistic(items_base=frozenset({'nan'}), items_add=frozenset({'salmon'}), confidence=0.0424, lift=0.9969981191222571), OrderedStatistic(items_base=frozenset({'salmon'}), items_add=frozenset({'nan'}), confidence=0.9968652037617555, lift=0.996998119122257)]),\n",
       " RelationRecord(items=frozenset({'nan', 'shrimp'}), support=0.0713238234902013, ordered_statistics=[OrderedStatistic(items_base=frozenset(), items_add=frozenset({'nan', 'shrimp'}), confidence=0.0713238234902013, lift=1.0), OrderedStatistic(items_base=frozenset({'nan'}), items_add=frozenset({'shrimp'}), confidence=0.07133333333333333, lift=0.9982674129353233), OrderedStatistic(items_base=frozenset({'shrimp'}), items_add=frozenset({'nan'}), confidence=0.9981343283582088, lift=0.9982674129353233)]),\n",
       " RelationRecord(items=frozenset({'nan', 'soup'}), support=0.05052659645380616, ordered_statistics=[OrderedStatistic(items_base=frozenset(), items_add=frozenset({'nan', 'soup'}), confidence=0.05052659645380616, lift=1.0), OrderedStatistic(items_base=frozenset({'nan'}), items_add=frozenset({'soup'}), confidence=0.05053333333333333, lift=1.0001333333333333), OrderedStatistic(items_base=frozenset({'soup'}), items_add=frozenset({'nan'}), confidence=1.0, lift=1.0001333333333333)]),\n",
       " RelationRecord(items=frozenset({'nan', 'spaghetti'}), support=0.17411011865084655, ordered_statistics=[OrderedStatistic(items_base=frozenset(), items_add=frozenset({'nan', 'spaghetti'}), confidence=0.17411011865084655, lift=1.0), OrderedStatistic(items_base=frozenset({'nan'}), items_add=frozenset({'spaghetti'}), confidence=0.17413333333333333, lift=1.0001333333333333), OrderedStatistic(items_base=frozenset({'spaghetti'}), items_add=frozenset({'nan'}), confidence=1.0, lift=1.0001333333333333)]),\n",
       " RelationRecord(items=frozenset({'nan', 'tomato juice'}), support=0.030262631649113452, ordered_statistics=[OrderedStatistic(items_base=frozenset(), items_add=frozenset({'nan', 'tomato juice'}), confidence=0.030262631649113452, lift=1.0), OrderedStatistic(items_base=frozenset({'nan'}), items_add=frozenset({'tomato juice'}), confidence=0.030266666666666667, lift=0.995746783625731), OrderedStatistic(items_base=frozenset({'tomato juice'}), items_add=frozenset({'nan'}), confidence=0.9956140350877193, lift=0.995746783625731)]),\n",
       " RelationRecord(items=frozenset({'tomatoes', 'nan'}), support=0.06839088121583789, ordered_statistics=[OrderedStatistic(items_base=frozenset(), items_add=frozenset({'tomatoes', 'nan'}), confidence=0.06839088121583789, lift=1.0), OrderedStatistic(items_base=frozenset({'nan'}), items_add=frozenset({'tomatoes'}), confidence=0.0684, lift=1.0001333333333333), OrderedStatistic(items_base=frozenset({'tomatoes'}), items_add=frozenset({'nan'}), confidence=1.0, lift=1.0001333333333333)]),\n",
       " RelationRecord(items=frozenset({'turkey', 'nan'}), support=0.06252499666711105, ordered_statistics=[OrderedStatistic(items_base=frozenset(), items_add=frozenset({'turkey', 'nan'}), confidence=0.06252499666711105, lift=1.0), OrderedStatistic(items_base=frozenset({'nan'}), items_add=frozenset({'turkey'}), confidence=0.06253333333333333, lift=1.0001333333333333), OrderedStatistic(items_base=frozenset({'turkey'}), items_add=frozenset({'nan'}), confidence=1.0, lift=1.0001333333333333)]),\n",
       " RelationRecord(items=frozenset({'nan', 'whole wheat rice'}), support=0.058525529929342755, ordered_statistics=[OrderedStatistic(items_base=frozenset(), items_add=frozenset({'nan', 'whole wheat rice'}), confidence=0.058525529929342755, lift=1.0), OrderedStatistic(items_base=frozenset({'nan'}), items_add=frozenset({'whole wheat rice'}), confidence=0.05853333333333333, lift=1.0001333333333333), OrderedStatistic(items_base=frozenset({'whole wheat rice'}), items_add=frozenset({'nan'}), confidence=1.0, lift=1.0001333333333333)]),\n",
       " RelationRecord(items=frozenset({'chocolate', 'nan', 'eggs'}), support=0.03319557392347687, ordered_statistics=[OrderedStatistic(items_base=frozenset(), items_add=frozenset({'chocolate', 'nan', 'eggs'}), confidence=0.03319557392347687, lift=1.0), OrderedStatistic(items_base=frozenset({'chocolate'}), items_add=frozenset({'nan', 'eggs'}), confidence=0.20260374288039054, lift=1.1273966434316094), OrderedStatistic(items_base=frozenset({'eggs'}), items_add=frozenset({'chocolate', 'nan'}), confidence=0.1847181008902077, lift=1.1273966434316094), OrderedStatistic(items_base=frozenset({'nan'}), items_add=frozenset({'chocolate', 'eggs'}), confidence=0.0332, lift=1.0001333333333333), OrderedStatistic(items_base=frozenset({'chocolate', 'eggs'}), items_add=frozenset({'nan'}), confidence=1.0, lift=1.0001333333333333), OrderedStatistic(items_base=frozenset({'chocolate', 'nan'}), items_add=frozenset({'eggs'}), confidence=0.20260374288039054, lift=1.1273966434316094), OrderedStatistic(items_base=frozenset({'nan', 'eggs'}), items_add=frozenset({'chocolate'}), confidence=0.1847181008902077, lift=1.1273966434316094)]),\n",
       " RelationRecord(items=frozenset({'chocolate', 'nan', 'french fries'}), support=0.03439541394480736, ordered_statistics=[OrderedStatistic(items_base=frozenset(), items_add=frozenset({'chocolate', 'nan', 'french fries'}), confidence=0.03439541394480736, lift=1.0), OrderedStatistic(items_base=frozenset({'chocolate'}), items_add=frozenset({'nan', 'french fries'}), confidence=0.209926769731489, lift=1.2282844771886887), OrderedStatistic(items_base=frozenset({'french fries'}), items_add=frozenset({'chocolate', 'nan'}), confidence=0.20124804992199688, lift=1.2282844771886887), OrderedStatistic(items_base=frozenset({'nan'}), items_add=frozenset({'chocolate', 'french fries'}), confidence=0.0344, lift=1.0001333333333333), OrderedStatistic(items_base=frozenset({'chocolate', 'french fries'}), items_add=frozenset({'nan'}), confidence=1.0, lift=1.0001333333333333), OrderedStatistic(items_base=frozenset({'chocolate', 'nan'}), items_add=frozenset({'french fries'}), confidence=0.209926769731489, lift=1.2282844771886887), OrderedStatistic(items_base=frozenset({'nan', 'french fries'}), items_add=frozenset({'chocolate'}), confidence=0.20124804992199688, lift=1.2282844771886887)]),\n",
       " RelationRecord(items=frozenset({'chocolate', 'nan', 'milk'}), support=0.03212904946007199, ordered_statistics=[OrderedStatistic(items_base=frozenset(), items_add=frozenset({'chocolate', 'nan', 'milk'}), confidence=0.03212904946007199, lift=1.0), OrderedStatistic(items_base=frozenset({'chocolate'}), items_add=frozenset({'nan', 'milk'}), confidence=0.19609438567941412, lift=1.5132757067708698), OrderedStatistic(items_base=frozenset({'milk'}), items_add=frozenset({'chocolate', 'nan'}), confidence=0.2479423868312757, lift=1.5132757067708698), OrderedStatistic(items_base=frozenset({'nan'}), items_add=frozenset({'chocolate', 'milk'}), confidence=0.03213333333333333, lift=1.0001333333333333), OrderedStatistic(items_base=frozenset({'chocolate', 'milk'}), items_add=frozenset({'nan'}), confidence=1.0, lift=1.0001333333333333), OrderedStatistic(items_base=frozenset({'chocolate', 'nan'}), items_add=frozenset({'milk'}), confidence=0.19609438567941412, lift=1.5132757067708698), OrderedStatistic(items_base=frozenset({'nan', 'milk'}), items_add=frozenset({'chocolate'}), confidence=0.2479423868312757, lift=1.5132757067708698)]),\n",
       " RelationRecord(items=frozenset({'chocolate', 'nan', 'mineral water'}), support=0.05265964538061592, ordered_statistics=[OrderedStatistic(items_base=frozenset(), items_add=frozenset({'chocolate', 'nan', 'mineral water'}), confidence=0.05265964538061592, lift=1.0), OrderedStatistic(items_base=frozenset({'chocolate'}), items_add=frozenset({'nan', 'mineral water'}), confidence=0.3213995117982099, lift=1.3490865909336163), OrderedStatistic(items_base=frozenset({'mineral water'}), items_add=frozenset({'chocolate', 'nan'}), confidence=0.220917225950783, lift=1.348332068231752), OrderedStatistic(items_base=frozenset({'nan'}), items_add=frozenset({'chocolate', 'mineral water'}), confidence=0.05266666666666667, lift=1.0001333333333333), OrderedStatistic(items_base=frozenset({'chocolate', 'mineral water'}), items_add=frozenset({'nan'}), confidence=1.0, lift=1.0001333333333333), OrderedStatistic(items_base=frozenset({'chocolate', 'nan'}), items_add=frozenset({'mineral water'}), confidence=0.3213995117982099, lift=1.3483320682317521), OrderedStatistic(items_base=frozenset({'nan', 'mineral water'}), items_add=frozenset({'chocolate'}), confidence=0.22104085058757694, lift=1.3490865909336165)]),\n",
       " RelationRecord(items=frozenset({'chocolate', 'nan', 'spaghetti'}), support=0.03919477403012932, ordered_statistics=[OrderedStatistic(items_base=frozenset(), items_add=frozenset({'chocolate', 'nan', 'spaghetti'}), confidence=0.03919477403012932, lift=1.0), OrderedStatistic(items_base=frozenset({'chocolate'}), items_add=frozenset({'nan', 'spaghetti'}), confidence=0.23921887713588283, lift=1.3739516059695691), OrderedStatistic(items_base=frozenset({'nan'}), items_add=frozenset({'chocolate', 'spaghetti'}), confidence=0.0392, lift=1.0001333333333333), OrderedStatistic(items_base=frozenset({'spaghetti'}), items_add=frozenset({'chocolate', 'nan'}), confidence=0.22511485451761104, lift=1.3739516059695691), OrderedStatistic(items_base=frozenset({'chocolate', 'nan'}), items_add=frozenset({'spaghetti'}), confidence=0.23921887713588283, lift=1.3739516059695691), OrderedStatistic(items_base=frozenset({'chocolate', 'spaghetti'}), items_add=frozenset({'nan'}), confidence=1.0, lift=1.0001333333333333), OrderedStatistic(items_base=frozenset({'nan', 'spaghetti'}), items_add=frozenset({'chocolate'}), confidence=0.22511485451761104, lift=1.3739516059695691)]),\n",
       " RelationRecord(items=frozenset({'nan', 'eggs', 'french fries'}), support=0.036395147313691506, ordered_statistics=[OrderedStatistic(items_base=frozenset(), items_add=frozenset({'nan', 'eggs', 'french fries'}), confidence=0.036395147313691506, lift=1.0), OrderedStatistic(items_base=frozenset({'eggs'}), items_add=frozenset({'nan', 'french fries'}), confidence=0.20252225519287834, lift=1.1849605586597352), OrderedStatistic(items_base=frozenset({'french fries'}), items_add=frozenset({'nan', 'eggs'}), confidence=0.21294851794071765, lift=1.1849605586597352), OrderedStatistic(items_base=frozenset({'nan'}), items_add=frozenset({'eggs', 'french fries'}), confidence=0.0364, lift=1.0001333333333335), OrderedStatistic(items_base=frozenset({'eggs', 'french fries'}), items_add=frozenset({'nan'}), confidence=1.0, lift=1.0001333333333333), OrderedStatistic(items_base=frozenset({'nan', 'eggs'}), items_add=frozenset({'french fries'}), confidence=0.20252225519287834, lift=1.1849605586597352), OrderedStatistic(items_base=frozenset({'nan', 'french fries'}), items_add=frozenset({'eggs'}), confidence=0.21294851794071765, lift=1.1849605586597352)]),\n",
       " RelationRecord(items=frozenset({'nan', 'milk', 'eggs'}), support=0.03079589388081589, ordered_statistics=[OrderedStatistic(items_base=frozenset(), items_add=frozenset({'nan', 'milk', 'eggs'}), confidence=0.03079589388081589, lift=1.0), OrderedStatistic(items_base=frozenset({'eggs'}), items_add=frozenset({'nan', 'milk'}), confidence=0.17136498516320472, lift=1.322436989412756), OrderedStatistic(items_base=frozenset({'milk'}), items_add=frozenset({'nan', 'eggs'}), confidence=0.23765432098765432, lift=1.322436989412756), OrderedStatistic(items_base=frozenset({'nan'}), items_add=frozenset({'milk', 'eggs'}), confidence=0.0308, lift=1.0001333333333333), OrderedStatistic(items_base=frozenset({'milk', 'eggs'}), items_add=frozenset({'nan'}), confidence=1.0, lift=1.0001333333333333), OrderedStatistic(items_base=frozenset({'nan', 'eggs'}), items_add=frozenset({'milk'}), confidence=0.17136498516320472, lift=1.322436989412756), OrderedStatistic(items_base=frozenset({'nan', 'milk'}), items_add=frozenset({'eggs'}), confidence=0.23765432098765432, lift=1.322436989412756)]),\n",
       " RelationRecord(items=frozenset({'nan', 'mineral water', 'eggs'}), support=0.05092654312758299, ordered_statistics=[OrderedStatistic(items_base=frozenset(), items_add=frozenset({'nan', 'eggs', 'mineral water'}), confidence=0.05092654312758299, lift=1.0), OrderedStatistic(items_base=frozenset({'eggs'}), items_add=frozenset({'nan', 'mineral water'}), confidence=0.28338278931750743, lift=1.1895099623226766), OrderedStatistic(items_base=frozenset({'mineral water'}), items_add=frozenset({'nan', 'eggs'}), confidence=0.21364653243847875, lift=1.188844688294532), OrderedStatistic(items_base=frozenset({'nan'}), items_add=frozenset({'eggs', 'mineral water'}), confidence=0.05093333333333334, lift=1.0001333333333333), OrderedStatistic(items_base=frozenset({'mineral water', 'eggs'}), items_add=frozenset({'nan'}), confidence=1.0, lift=1.0001333333333333), OrderedStatistic(items_base=frozenset({'nan', 'eggs'}), items_add=frozenset({'mineral water'}), confidence=0.28338278931750743, lift=1.188844688294532), OrderedStatistic(items_base=frozenset({'nan', 'mineral water'}), items_add=frozenset({'eggs'}), confidence=0.21376608841634023, lift=1.1895099623226766)]),\n",
       " RelationRecord(items=frozenset({'nan', 'spaghetti', 'eggs'}), support=0.036528462871617116, ordered_statistics=[OrderedStatistic(items_base=frozenset(), items_add=frozenset({'nan', 'eggs', 'spaghetti'}), confidence=0.036528462871617116, lift=1.0), OrderedStatistic(items_base=frozenset({'eggs'}), items_add=frozenset({'nan', 'spaghetti'}), confidence=0.2032640949554896, lift=1.1674456173515526), OrderedStatistic(items_base=frozenset({'nan'}), items_add=frozenset({'eggs', 'spaghetti'}), confidence=0.036533333333333334, lift=1.0001333333333333), OrderedStatistic(items_base=frozenset({'spaghetti'}), items_add=frozenset({'nan', 'eggs'}), confidence=0.20980091883614088, lift=1.1674456173515524), OrderedStatistic(items_base=frozenset({'nan', 'eggs'}), items_add=frozenset({'spaghetti'}), confidence=0.2032640949554896, lift=1.1674456173515526), OrderedStatistic(items_base=frozenset({'spaghetti', 'eggs'}), items_add=frozenset({'nan'}), confidence=1.0, lift=1.0001333333333333), OrderedStatistic(items_base=frozenset({'nan', 'spaghetti'}), items_add=frozenset({'eggs'}), confidence=0.20980091883614088, lift=1.1674456173515524)]),\n",
       " RelationRecord(items=frozenset({'nan', 'mineral water', 'french fries'}), support=0.03372883615517931, ordered_statistics=[OrderedStatistic(items_base=frozenset(), items_add=frozenset({'nan', 'mineral water', 'french fries'}), confidence=0.03372883615517931, lift=1.0), OrderedStatistic(items_base=frozenset({'french fries'}), items_add=frozenset({'nan', 'mineral water'}), confidence=0.19734789391575666, lift=0.8283752390946226), OrderedStatistic(items_base=frozenset({'mineral water'}), items_add=frozenset({'nan', 'french fries'}), confidence=0.14149888143176736, lift=0.8279119419810351), OrderedStatistic(items_base=frozenset({'nan'}), items_add=frozenset({'mineral water', 'french fries'}), confidence=0.03373333333333334, lift=1.0001333333333333), OrderedStatistic(items_base=frozenset({'mineral water', 'french fries'}), items_add=frozenset({'nan'}), confidence=1.0, lift=1.0001333333333333), OrderedStatistic(items_base=frozenset({'nan', 'french fries'}), items_add=frozenset({'mineral water'}), confidence=0.19734789391575666, lift=0.8279119419810351), OrderedStatistic(items_base=frozenset({'nan', 'mineral water'}), items_add=frozenset({'french fries'}), confidence=0.1415780637940683, lift=0.8283752390946227)]),\n",
       " RelationRecord(items=frozenset({'nan', 'mineral water', 'frozen vegetables'}), support=0.03572856952406346, ordered_statistics=[OrderedStatistic(items_base=frozenset(), items_add=frozenset({'nan', 'mineral water', 'frozen vegetables'}), confidence=0.03572856952406346, lift=1.0), OrderedStatistic(items_base=frozenset({'frozen vegetables'}), items_add=frozenset({'nan', 'mineral water'}), confidence=0.37482517482517486, lift=1.5733428295263774), OrderedStatistic(items_base=frozenset({'mineral water'}), items_add=frozenset({'nan', 'frozen vegetables'}), confidence=0.1498881431767338, lift=1.57246288387228), OrderedStatistic(items_base=frozenset({'nan'}), items_add=frozenset({'mineral water', 'frozen vegetables'}), confidence=0.03573333333333334, lift=1.0001333333333333), OrderedStatistic(items_base=frozenset({'mineral water', 'frozen vegetables'}), items_add=frozenset({'nan'}), confidence=1.0, lift=1.0001333333333333), OrderedStatistic(items_base=frozenset({'nan', 'frozen vegetables'}), items_add=frozenset({'mineral water'}), confidence=0.37482517482517486, lift=1.57246288387228), OrderedStatistic(items_base=frozenset({'nan', 'mineral water'}), items_add=frozenset({'frozen vegetables'}), confidence=0.14997202014549524, lift=1.5733428295263774)]),\n",
       " RelationRecord(items=frozenset({'green tea', 'mineral water', 'nan'}), support=0.0309292094387415, ordered_statistics=[OrderedStatistic(items_base=frozenset(), items_add=frozenset({'green tea', 'mineral water', 'nan'}), confidence=0.0309292094387415, lift=1.0), OrderedStatistic(items_base=frozenset({'green tea'}), items_add=frozenset({'nan', 'mineral water'}), confidence=0.2341069626639758, lift=0.9826728186583561), OrderedStatistic(items_base=frozenset({'mineral water'}), items_add=frozenset({'green tea', 'nan'}), confidence=0.12975391498881433, lift=0.9831152690213093), OrderedStatistic(items_base=frozenset({'nan'}), items_add=frozenset({'green tea', 'mineral water'}), confidence=0.030933333333333334, lift=0.9958409155937052), OrderedStatistic(items_base=frozenset({'green tea', 'mineral water'}), items_add=frozenset({'nan'}), confidence=0.9957081545064378, lift=0.9958409155937054), OrderedStatistic(items_base=frozenset({'green tea', 'nan'}), items_add=frozenset({'mineral water'}), confidence=0.23434343434343433, lift=0.9831152690213093), OrderedStatistic(items_base=frozenset({'nan', 'mineral water'}), items_add=frozenset({'green tea'}), confidence=0.1298265249020705, lift=0.9826728186583561)]),\n",
       " RelationRecord(items=frozenset({'nan', 'mineral water', 'ground beef'}), support=0.040927876283162246, ordered_statistics=[OrderedStatistic(items_base=frozenset(), items_add=frozenset({'nan', 'mineral water', 'ground beef'}), confidence=0.040927876283162246, lift=1.0), OrderedStatistic(items_base=frozenset({'ground beef'}), items_add=frozenset({'nan', 'mineral water'}), confidence=0.41655359565807326, lift=1.7484994521719124), OrderedStatistic(items_base=frozenset({'mineral water'}), items_add=frozenset({'nan', 'ground beef'}), confidence=0.17170022371364654, lift=1.7475215442008993), OrderedStatistic(items_base=frozenset({'nan'}), items_add=frozenset({'mineral water', 'ground beef'}), confidence=0.040933333333333335, lift=1.0001333333333333), OrderedStatistic(items_base=frozenset({'mineral water', 'ground beef'}), items_add=frozenset({'nan'}), confidence=1.0, lift=1.0001333333333333), OrderedStatistic(items_base=frozenset({'nan', 'ground beef'}), items_add=frozenset({'mineral water'}), confidence=0.41655359565807326, lift=1.7475215442008991), OrderedStatistic(items_base=frozenset({'nan', 'mineral water'}), items_add=frozenset({'ground beef'}), confidence=0.17179630665920537, lift=1.7484994521719124)]),\n",
       " RelationRecord(items=frozenset({'nan', 'spaghetti', 'ground beef'}), support=0.03919477403012932, ordered_statistics=[OrderedStatistic(items_base=frozenset(), items_add=frozenset({'nan', 'spaghetti', 'ground beef'}), confidence=0.03919477403012932, lift=1.0), OrderedStatistic(items_base=frozenset({'ground beef'}), items_add=frozenset({'nan', 'spaghetti'}), confidence=0.3989145183175034, lift=2.291162176033379), OrderedStatistic(items_base=frozenset({'nan'}), items_add=frozenset({'spaghetti', 'ground beef'}), confidence=0.0392, lift=1.0001333333333333), OrderedStatistic(items_base=frozenset({'spaghetti'}), items_add=frozenset({'nan', 'ground beef'}), confidence=0.22511485451761104, lift=2.2911621760333793), OrderedStatistic(items_base=frozenset({'nan', 'ground beef'}), items_add=frozenset({'spaghetti'}), confidence=0.3989145183175034, lift=2.291162176033379), OrderedStatistic(items_base=frozenset({'spaghetti', 'ground beef'}), items_add=frozenset({'nan'}), confidence=1.0, lift=1.0001333333333333), OrderedStatistic(items_base=frozenset({'nan', 'spaghetti'}), items_add=frozenset({'ground beef'}), confidence=0.22511485451761104, lift=2.2911621760333793)]),\n",
       " RelationRecord(items=frozenset({'nan', 'milk', 'mineral water'}), support=0.04799360085321957, ordered_statistics=[OrderedStatistic(items_base=frozenset(), items_add=frozenset({'nan', 'milk', 'mineral water'}), confidence=0.04799360085321957, lift=1.0), OrderedStatistic(items_base=frozenset({'milk'}), items_add=frozenset({'nan', 'mineral water'}), confidence=0.3703703703703704, lift=1.554643619556882), OrderedStatistic(items_base=frozenset({'mineral water'}), items_add=frozenset({'nan', 'milk'}), confidence=0.20134228187919462, lift=1.5537741320739085), OrderedStatistic(items_base=frozenset({'nan'}), items_add=frozenset({'milk', 'mineral water'}), confidence=0.048, lift=1.0001333333333333), OrderedStatistic(items_base=frozenset({'milk', 'mineral water'}), items_add=frozenset({'nan'}), confidence=1.0, lift=1.0001333333333333), OrderedStatistic(items_base=frozenset({'nan', 'milk'}), items_add=frozenset({'mineral water'}), confidence=0.3703703703703704, lift=1.5537741320739085), OrderedStatistic(items_base=frozenset({'nan', 'mineral water'}), items_add=frozenset({'milk'}), confidence=0.20145495243424733, lift=1.554643619556882)]),\n",
       " RelationRecord(items=frozenset({'nan', 'milk', 'spaghetti'}), support=0.03546193840821224, ordered_statistics=[OrderedStatistic(items_base=frozenset(), items_add=frozenset({'nan', 'milk', 'spaghetti'}), confidence=0.03546193840821224, lift=1.0), OrderedStatistic(items_base=frozenset({'milk'}), items_add=frozenset({'nan', 'spaghetti'}), confidence=0.27366255144032925, lift=1.5717785592296398), OrderedStatistic(items_base=frozenset({'nan'}), items_add=frozenset({'milk', 'spaghetti'}), confidence=0.03546666666666667, lift=1.0001333333333333), OrderedStatistic(items_base=frozenset({'spaghetti'}), items_add=frozenset({'nan', 'milk'}), confidence=0.20367534456355285, lift=1.57177855922964), OrderedStatistic(items_base=frozenset({'nan', 'milk'}), items_add=frozenset({'spaghetti'}), confidence=0.27366255144032925, lift=1.5717785592296398), OrderedStatistic(items_base=frozenset({'milk', 'spaghetti'}), items_add=frozenset({'nan'}), confidence=1.0, lift=1.0001333333333333), OrderedStatistic(items_base=frozenset({'nan', 'spaghetti'}), items_add=frozenset({'milk'}), confidence=0.20367534456355285, lift=1.57177855922964)]),\n",
       " RelationRecord(items=frozenset({'nan', 'pancakes', 'mineral water'}), support=0.03372883615517931, ordered_statistics=[OrderedStatistic(items_base=frozenset(), items_add=frozenset({'nan', 'pancakes', 'mineral water'}), confidence=0.03372883615517931, lift=1.0), OrderedStatistic(items_base=frozenset({'mineral water'}), items_add=frozenset({'nan', 'pancakes'}), confidence=0.14149888143176736, lift=1.4886158620191963), OrderedStatistic(items_base=frozenset({'nan'}), items_add=frozenset({'pancakes', 'mineral water'}), confidence=0.03373333333333334, lift=1.0001333333333333), OrderedStatistic(items_base=frozenset({'pancakes'}), items_add=frozenset({'nan', 'mineral water'}), confidence=0.3548387096774194, lift=1.4894488871238514), OrderedStatistic(items_base=frozenset({'nan', 'mineral water'}), items_add=frozenset({'pancakes'}), confidence=0.1415780637940683, lift=1.4894488871238516), OrderedStatistic(items_base=frozenset({'pancakes', 'mineral water'}), items_add=frozenset({'nan'}), confidence=1.0, lift=1.0001333333333333), OrderedStatistic(items_base=frozenset({'nan', 'pancakes'}), items_add=frozenset({'mineral water'}), confidence=0.3548387096774194, lift=1.4886158620191963)]),\n",
       " RelationRecord(items=frozenset({'nan', 'spaghetti', 'mineral water'}), support=0.05972536995067324, ordered_statistics=[OrderedStatistic(items_base=frozenset(), items_add=frozenset({'nan', 'mineral water', 'spaghetti'}), confidence=0.05972536995067324, lift=1.0), OrderedStatistic(items_base=frozenset({'mineral water'}), items_add=frozenset({'nan', 'spaghetti'}), confidence=0.2505592841163311, lift=1.4390851379453289), OrderedStatistic(items_base=frozenset({'nan'}), items_add=frozenset({'mineral water', 'spaghetti'}), confidence=0.05973333333333333, lift=1.0001333333333333), OrderedStatistic(items_base=frozenset({'spaghetti'}), items_add=frozenset({'nan', 'mineral water'}), confidence=0.3430321592649311, lift=1.439890445800922), OrderedStatistic(items_base=frozenset({'nan', 'mineral water'}), items_add=frozenset({'spaghetti'}), confidence=0.2506994963626189, lift=1.4398904458009223), OrderedStatistic(items_base=frozenset({'spaghetti', 'mineral water'}), items_add=frozenset({'nan'}), confidence=1.0, lift=1.0001333333333333), OrderedStatistic(items_base=frozenset({'nan', 'spaghetti'}), items_add=frozenset({'mineral water'}), confidence=0.3430321592649311, lift=1.4390851379453289)])]"
      ]
     },
     "execution_count": 12,
     "metadata": {},
     "output_type": "execute_result"
    }
   ],
   "source": [
    "a"
   ]
  },
  {
   "cell_type": "code",
   "execution_count": 13,
   "id": "718cdb82",
   "metadata": {},
   "outputs": [
    {
     "data": {
      "text/plain": [
       "[['avocado'],\n",
       " ['brownies'],\n",
       " ['burgers'],\n",
       " ['butter'],\n",
       " ['cake'],\n",
       " ['champagne'],\n",
       " ['chicken'],\n",
       " ['chocolate'],\n",
       " ['cookies'],\n",
       " ['cooking oil'],\n",
       " ['cottage cheese'],\n",
       " ['eggs'],\n",
       " ['escalope'],\n",
       " ['french fries'],\n",
       " ['fresh bread'],\n",
       " ['frozen smoothie'],\n",
       " ['frozen vegetables'],\n",
       " ['grated cheese'],\n",
       " ['green tea'],\n",
       " ['ground beef'],\n",
       " ['herb & pepper'],\n",
       " ['honey'],\n",
       " ['hot dogs'],\n",
       " ['low fat yogurt'],\n",
       " ['milk'],\n",
       " ['mineral water'],\n",
       " ['nan'],\n",
       " ['olive oil'],\n",
       " ['pancakes'],\n",
       " ['salmon'],\n",
       " ['shrimp'],\n",
       " ['soup'],\n",
       " ['spaghetti'],\n",
       " ['tomato juice'],\n",
       " ['tomatoes'],\n",
       " ['turkey'],\n",
       " ['whole wheat rice'],\n",
       " ['nan', 'avocado'],\n",
       " ['nan', 'brownies'],\n",
       " ['nan', 'burgers'],\n",
       " ['nan', 'butter'],\n",
       " ['cake', 'nan'],\n",
       " ['nan', 'champagne'],\n",
       " ['nan', 'chicken'],\n",
       " ['chocolate', 'eggs'],\n",
       " ['chocolate', 'french fries'],\n",
       " ['chocolate', 'milk'],\n",
       " ['chocolate', 'mineral water'],\n",
       " ['chocolate', 'nan'],\n",
       " ['chocolate', 'spaghetti'],\n",
       " ['nan', 'cookies'],\n",
       " ['nan', 'cooking oil'],\n",
       " ['nan', 'cottage cheese'],\n",
       " ['eggs', 'french fries'],\n",
       " ['milk', 'eggs'],\n",
       " ['mineral water', 'eggs'],\n",
       " ['nan', 'eggs'],\n",
       " ['spaghetti', 'eggs'],\n",
       " ['nan', 'escalope'],\n",
       " ['mineral water', 'french fries'],\n",
       " ['nan', 'french fries'],\n",
       " ['nan', 'fresh bread'],\n",
       " ['nan', 'frozen smoothie'],\n",
       " ['mineral water', 'frozen vegetables'],\n",
       " ['nan', 'frozen vegetables'],\n",
       " ['nan', 'grated cheese'],\n",
       " ['green tea', 'mineral water'],\n",
       " ['green tea', 'nan'],\n",
       " ['mineral water', 'ground beef'],\n",
       " ['nan', 'ground beef'],\n",
       " ['spaghetti', 'ground beef'],\n",
       " ['nan', 'herb & pepper'],\n",
       " ['honey', 'nan'],\n",
       " ['nan', 'hot dogs'],\n",
       " ['nan', 'low fat yogurt'],\n",
       " ['milk', 'mineral water'],\n",
       " ['nan', 'milk'],\n",
       " ['milk', 'spaghetti'],\n",
       " ['nan', 'mineral water'],\n",
       " ['pancakes', 'mineral water'],\n",
       " ['spaghetti', 'mineral water'],\n",
       " ['nan', 'olive oil'],\n",
       " ['nan', 'pancakes'],\n",
       " ['nan', 'salmon'],\n",
       " ['nan', 'shrimp'],\n",
       " ['nan', 'soup'],\n",
       " ['nan', 'spaghetti'],\n",
       " ['nan', 'tomato juice'],\n",
       " ['tomatoes', 'nan'],\n",
       " ['turkey', 'nan'],\n",
       " ['nan', 'whole wheat rice'],\n",
       " ['chocolate', 'nan', 'eggs'],\n",
       " ['chocolate', 'nan', 'french fries'],\n",
       " ['chocolate', 'nan', 'milk'],\n",
       " ['chocolate', 'nan', 'mineral water'],\n",
       " ['chocolate', 'nan', 'spaghetti'],\n",
       " ['nan', 'eggs', 'french fries'],\n",
       " ['nan', 'milk', 'eggs'],\n",
       " ['nan', 'mineral water', 'eggs'],\n",
       " ['nan', 'spaghetti', 'eggs'],\n",
       " ['nan', 'mineral water', 'french fries'],\n",
       " ['nan', 'mineral water', 'frozen vegetables'],\n",
       " ['green tea', 'mineral water', 'nan'],\n",
       " ['nan', 'mineral water', 'ground beef'],\n",
       " ['nan', 'spaghetti', 'ground beef'],\n",
       " ['nan', 'milk', 'mineral water'],\n",
       " ['nan', 'milk', 'spaghetti'],\n",
       " ['nan', 'pancakes', 'mineral water'],\n",
       " ['nan', 'spaghetti', 'mineral water']]"
      ]
     },
     "execution_count": 13,
     "metadata": {},
     "output_type": "execute_result"
    }
   ],
   "source": [
    "result"
   ]
  },
  {
   "cell_type": "markdown",
   "id": "c851e90c",
   "metadata": {},
   "source": [
    "# CCA"
   ]
  },
  {
   "cell_type": "code",
   "execution_count": 14,
   "id": "7f2c39a8",
   "metadata": {},
   "outputs": [
    {
     "data": {
      "text/html": [
       "<div>\n",
       "<style scoped>\n",
       "    .dataframe tbody tr th:only-of-type {\n",
       "        vertical-align: middle;\n",
       "    }\n",
       "\n",
       "    .dataframe tbody tr th {\n",
       "        vertical-align: top;\n",
       "    }\n",
       "\n",
       "    .dataframe thead th {\n",
       "        text-align: right;\n",
       "    }\n",
       "</style>\n",
       "<table border=\"1\" class=\"dataframe\">\n",
       "  <thead>\n",
       "    <tr style=\"text-align: right;\">\n",
       "      <th></th>\n",
       "      <th>enrollee_id</th>\n",
       "      <th>city</th>\n",
       "      <th>city_development_index</th>\n",
       "      <th>gender</th>\n",
       "      <th>relevent_experience</th>\n",
       "      <th>enrolled_university</th>\n",
       "      <th>education_level</th>\n",
       "      <th>major_discipline</th>\n",
       "      <th>experience</th>\n",
       "      <th>company_size</th>\n",
       "      <th>company_type</th>\n",
       "      <th>last_new_job</th>\n",
       "      <th>training_hours</th>\n",
       "    </tr>\n",
       "  </thead>\n",
       "  <tbody>\n",
       "    <tr>\n",
       "      <th>0</th>\n",
       "      <td>32403</td>\n",
       "      <td>city_41</td>\n",
       "      <td>0.827</td>\n",
       "      <td>Male</td>\n",
       "      <td>Has relevent experience</td>\n",
       "      <td>Full time course</td>\n",
       "      <td>Graduate</td>\n",
       "      <td>STEM</td>\n",
       "      <td>9</td>\n",
       "      <td>&lt;10</td>\n",
       "      <td>NaN</td>\n",
       "      <td>1</td>\n",
       "      <td>21</td>\n",
       "    </tr>\n",
       "    <tr>\n",
       "      <th>1</th>\n",
       "      <td>9858</td>\n",
       "      <td>city_103</td>\n",
       "      <td>0.920</td>\n",
       "      <td>Female</td>\n",
       "      <td>Has relevent experience</td>\n",
       "      <td>no_enrollment</td>\n",
       "      <td>Graduate</td>\n",
       "      <td>STEM</td>\n",
       "      <td>5</td>\n",
       "      <td>NaN</td>\n",
       "      <td>Pvt Ltd</td>\n",
       "      <td>1</td>\n",
       "      <td>98</td>\n",
       "    </tr>\n",
       "    <tr>\n",
       "      <th>2</th>\n",
       "      <td>31806</td>\n",
       "      <td>city_21</td>\n",
       "      <td>0.624</td>\n",
       "      <td>Male</td>\n",
       "      <td>No relevent experience</td>\n",
       "      <td>no_enrollment</td>\n",
       "      <td>High School</td>\n",
       "      <td>NaN</td>\n",
       "      <td>&lt;1</td>\n",
       "      <td>NaN</td>\n",
       "      <td>Pvt Ltd</td>\n",
       "      <td>never</td>\n",
       "      <td>15</td>\n",
       "    </tr>\n",
       "    <tr>\n",
       "      <th>3</th>\n",
       "      <td>27385</td>\n",
       "      <td>city_13</td>\n",
       "      <td>0.827</td>\n",
       "      <td>Male</td>\n",
       "      <td>Has relevent experience</td>\n",
       "      <td>no_enrollment</td>\n",
       "      <td>Masters</td>\n",
       "      <td>STEM</td>\n",
       "      <td>11</td>\n",
       "      <td>10/49</td>\n",
       "      <td>Pvt Ltd</td>\n",
       "      <td>1</td>\n",
       "      <td>39</td>\n",
       "    </tr>\n",
       "    <tr>\n",
       "      <th>4</th>\n",
       "      <td>27724</td>\n",
       "      <td>city_103</td>\n",
       "      <td>0.920</td>\n",
       "      <td>Male</td>\n",
       "      <td>Has relevent experience</td>\n",
       "      <td>no_enrollment</td>\n",
       "      <td>Graduate</td>\n",
       "      <td>STEM</td>\n",
       "      <td>&gt;20</td>\n",
       "      <td>10000+</td>\n",
       "      <td>Pvt Ltd</td>\n",
       "      <td>&gt;4</td>\n",
       "      <td>72</td>\n",
       "    </tr>\n",
       "  </tbody>\n",
       "</table>\n",
       "</div>"
      ],
      "text/plain": [
       "   enrollee_id      city  city_development_index  gender  \\\n",
       "0        32403   city_41                   0.827    Male   \n",
       "1         9858  city_103                   0.920  Female   \n",
       "2        31806   city_21                   0.624    Male   \n",
       "3        27385   city_13                   0.827    Male   \n",
       "4        27724  city_103                   0.920    Male   \n",
       "\n",
       "       relevent_experience enrolled_university education_level  \\\n",
       "0  Has relevent experience    Full time course        Graduate   \n",
       "1  Has relevent experience       no_enrollment        Graduate   \n",
       "2   No relevent experience       no_enrollment     High School   \n",
       "3  Has relevent experience       no_enrollment         Masters   \n",
       "4  Has relevent experience       no_enrollment        Graduate   \n",
       "\n",
       "  major_discipline experience company_size company_type last_new_job  \\\n",
       "0             STEM          9          <10          NaN            1   \n",
       "1             STEM          5          NaN      Pvt Ltd            1   \n",
       "2              NaN         <1          NaN      Pvt Ltd        never   \n",
       "3             STEM         11        10/49      Pvt Ltd            1   \n",
       "4             STEM        >20       10000+      Pvt Ltd           >4   \n",
       "\n",
       "   training_hours  \n",
       "0              21  \n",
       "1              98  \n",
       "2              15  \n",
       "3              39  \n",
       "4              72  "
      ]
     },
     "execution_count": 14,
     "metadata": {},
     "output_type": "execute_result"
    }
   ],
   "source": [
    "df = pd.read_csv(\"C:\\\\Users\\\\HP\\\\dsjob.csv\")\n",
    "df.head()"
   ]
  },
  {
   "cell_type": "code",
   "execution_count": 15,
   "id": "83f1a27a",
   "metadata": {},
   "outputs": [
    {
     "data": {
      "text/plain": [
       "enrollee_id                0.000000\n",
       "city                       0.000000\n",
       "city_development_index     0.000000\n",
       "gender                    23.860968\n",
       "relevent_experience        0.000000\n",
       "enrolled_university        1.456083\n",
       "education_level            2.442461\n",
       "major_discipline          14.654767\n",
       "experience                 0.234852\n",
       "company_size              29.215594\n",
       "company_type              29.779239\n",
       "last_new_job               1.878816\n",
       "training_hours             0.000000\n",
       "dtype: float64"
      ]
     },
     "execution_count": 15,
     "metadata": {},
     "output_type": "execute_result"
    }
   ],
   "source": [
    "df.isnull().mean()*100"
   ]
  },
  {
   "cell_type": "code",
   "execution_count": 17,
   "id": "a2beb76f",
   "metadata": {},
   "outputs": [
    {
     "data": {
      "text/plain": [
       "['enrolled_university', 'education_level', 'experience', 'last_new_job']"
      ]
     },
     "execution_count": 17,
     "metadata": {},
     "output_type": "execute_result"
    }
   ],
   "source": [
    "cols = [var for var in df.columns if df[var].isnull().mean()<0.05 and df[var].isnull().mean() > 0]\n",
    "cols"
   ]
  },
  {
   "cell_type": "code",
   "execution_count": 18,
   "id": "81471ea3",
   "metadata": {},
   "outputs": [
    {
     "data": {
      "text/html": [
       "<div>\n",
       "<style scoped>\n",
       "    .dataframe tbody tr th:only-of-type {\n",
       "        vertical-align: middle;\n",
       "    }\n",
       "\n",
       "    .dataframe tbody tr th {\n",
       "        vertical-align: top;\n",
       "    }\n",
       "\n",
       "    .dataframe thead th {\n",
       "        text-align: right;\n",
       "    }\n",
       "</style>\n",
       "<table border=\"1\" class=\"dataframe\">\n",
       "  <thead>\n",
       "    <tr style=\"text-align: right;\">\n",
       "      <th></th>\n",
       "      <th>enrolled_university</th>\n",
       "      <th>education_level</th>\n",
       "      <th>experience</th>\n",
       "      <th>last_new_job</th>\n",
       "    </tr>\n",
       "  </thead>\n",
       "  <tbody>\n",
       "    <tr>\n",
       "      <th>0</th>\n",
       "      <td>Full time course</td>\n",
       "      <td>Graduate</td>\n",
       "      <td>9</td>\n",
       "      <td>1</td>\n",
       "    </tr>\n",
       "    <tr>\n",
       "      <th>1</th>\n",
       "      <td>no_enrollment</td>\n",
       "      <td>Graduate</td>\n",
       "      <td>5</td>\n",
       "      <td>1</td>\n",
       "    </tr>\n",
       "    <tr>\n",
       "      <th>2</th>\n",
       "      <td>no_enrollment</td>\n",
       "      <td>High School</td>\n",
       "      <td>&lt;1</td>\n",
       "      <td>never</td>\n",
       "    </tr>\n",
       "    <tr>\n",
       "      <th>3</th>\n",
       "      <td>no_enrollment</td>\n",
       "      <td>Masters</td>\n",
       "      <td>11</td>\n",
       "      <td>1</td>\n",
       "    </tr>\n",
       "    <tr>\n",
       "      <th>4</th>\n",
       "      <td>no_enrollment</td>\n",
       "      <td>Graduate</td>\n",
       "      <td>&gt;20</td>\n",
       "      <td>&gt;4</td>\n",
       "    </tr>\n",
       "  </tbody>\n",
       "</table>\n",
       "</div>"
      ],
      "text/plain": [
       "  enrolled_university education_level experience last_new_job\n",
       "0    Full time course        Graduate          9            1\n",
       "1       no_enrollment        Graduate          5            1\n",
       "2       no_enrollment     High School         <1        never\n",
       "3       no_enrollment         Masters         11            1\n",
       "4       no_enrollment        Graduate        >20           >4"
      ]
     },
     "execution_count": 18,
     "metadata": {},
     "output_type": "execute_result"
    }
   ],
   "source": [
    "df[cols].head()"
   ]
  },
  {
   "cell_type": "code",
   "execution_count": 20,
   "id": "b8bfce44",
   "metadata": {},
   "outputs": [
    {
     "data": {
      "text/html": [
       "<div>\n",
       "<style scoped>\n",
       "    .dataframe tbody tr th:only-of-type {\n",
       "        vertical-align: middle;\n",
       "    }\n",
       "\n",
       "    .dataframe tbody tr th {\n",
       "        vertical-align: top;\n",
       "    }\n",
       "\n",
       "    .dataframe thead th {\n",
       "        text-align: right;\n",
       "    }\n",
       "</style>\n",
       "<table border=\"1\" class=\"dataframe\">\n",
       "  <thead>\n",
       "    <tr style=\"text-align: right;\">\n",
       "      <th></th>\n",
       "      <th>enrolled_university</th>\n",
       "      <th>education_level</th>\n",
       "      <th>experience</th>\n",
       "      <th>last_new_job</th>\n",
       "    </tr>\n",
       "  </thead>\n",
       "  <tbody>\n",
       "    <tr>\n",
       "      <th>2124</th>\n",
       "      <td>no_enrollment</td>\n",
       "      <td>Graduate</td>\n",
       "      <td>16</td>\n",
       "      <td>4</td>\n",
       "    </tr>\n",
       "    <tr>\n",
       "      <th>2125</th>\n",
       "      <td>no_enrollment</td>\n",
       "      <td>Masters</td>\n",
       "      <td>18</td>\n",
       "      <td>2</td>\n",
       "    </tr>\n",
       "    <tr>\n",
       "      <th>2126</th>\n",
       "      <td>no_enrollment</td>\n",
       "      <td>Primary School</td>\n",
       "      <td>3</td>\n",
       "      <td>never</td>\n",
       "    </tr>\n",
       "    <tr>\n",
       "      <th>2127</th>\n",
       "      <td>Full time course</td>\n",
       "      <td>High School</td>\n",
       "      <td>7</td>\n",
       "      <td>1</td>\n",
       "    </tr>\n",
       "    <tr>\n",
       "      <th>2128</th>\n",
       "      <td>no_enrollment</td>\n",
       "      <td>Masters</td>\n",
       "      <td>15</td>\n",
       "      <td>2</td>\n",
       "    </tr>\n",
       "  </tbody>\n",
       "</table>\n",
       "</div>"
      ],
      "text/plain": [
       "     enrolled_university education_level experience last_new_job\n",
       "2124       no_enrollment        Graduate         16            4\n",
       "2125       no_enrollment         Masters         18            2\n",
       "2126       no_enrollment  Primary School          3        never\n",
       "2127    Full time course     High School          7            1\n",
       "2128       no_enrollment         Masters         15            2"
      ]
     },
     "execution_count": 20,
     "metadata": {},
     "output_type": "execute_result"
    }
   ],
   "source": [
    "df[cols].tail()"
   ]
  },
  {
   "cell_type": "code",
   "execution_count": 21,
   "id": "5bc5ac4d",
   "metadata": {},
   "outputs": [
    {
     "data": {
      "text/plain": [
       "Graduate          1269\n",
       "Masters            496\n",
       "High School        222\n",
       "Phd                 54\n",
       "Primary School      36\n",
       "Name: education_level, dtype: int64"
      ]
     },
     "execution_count": 21,
     "metadata": {},
     "output_type": "execute_result"
    }
   ],
   "source": [
    "df['education_level'].value_counts()"
   ]
  },
  {
   "cell_type": "code",
   "execution_count": 22,
   "id": "3ec48bcc",
   "metadata": {},
   "outputs": [
    {
     "data": {
      "text/plain": [
       "0.9478628464067638"
      ]
     },
     "execution_count": 22,
     "metadata": {},
     "output_type": "execute_result"
    }
   ],
   "source": [
    "len(df[cols].dropna()) / len(df)"
   ]
  },
  {
   "cell_type": "code",
   "execution_count": 23,
   "id": "253cb224",
   "metadata": {},
   "outputs": [
    {
     "data": {
      "text/plain": [
       "(2129, 13)"
      ]
     },
     "execution_count": 23,
     "metadata": {},
     "output_type": "execute_result"
    }
   ],
   "source": [
    "new_df = df[cols].dropna()\n",
    "df.shape"
   ]
  },
  {
   "cell_type": "code",
   "execution_count": 24,
   "id": "75571e94",
   "metadata": {},
   "outputs": [
    {
     "data": {
      "text/plain": [
       "(2018, 4)"
      ]
     },
     "execution_count": 24,
     "metadata": {},
     "output_type": "execute_result"
    }
   ],
   "source": [
    "new_df.shape"
   ]
  },
  {
   "cell_type": "code",
   "execution_count": 25,
   "id": "d4efa970",
   "metadata": {},
   "outputs": [],
   "source": [
    "import matplotlib.pyplot as plt"
   ]
  },
  {
   "cell_type": "code",
   "execution_count": 27,
   "id": "cfb3698d",
   "metadata": {},
   "outputs": [
    {
     "data": {
      "text/plain": [
       "<Axes: >"
      ]
     },
     "execution_count": 27,
     "metadata": {},
     "output_type": "execute_result"
    },
    {
     "data": {
      "image/png": "[encoded data removed]",
      "text/plain": [
       "<Figure size 640x480 with 1 Axes>"
      ]
     },
     "metadata": {},
     "output_type": "display_data"
    }
   ],
   "source": [
    "fig = plt.figure()\n",
    "ax = fig.add_subplot(111)\n",
    "\n",
    "# Original Data\n",
    "df['experience'].hist(bins = 50, ax = ax, density = True, color = 'red')\n",
    "\n",
    "# Updated Data\n",
    "new_df['experience'].hist(bins = 50, ax = ax, color = 'green', density = True, alpha = 0.8)"
   ]
  },
  {
   "cell_type": "code",
   "execution_count": null,
   "id": "b4cf6767",
   "metadata": {},
   "outputs": [],
   "source": []
  },
  {
   "cell_type": "code",
   "execution_count": null,
   "id": "239e1d09",
   "metadata": {},
   "outputs": [],
   "source": []
  },
  {
   "cell_type": "code",
   "execution_count": 29,
   "id": "585fc103",
   "metadata": {},
   "outputs": [
    {
     "data": {
      "text/html": [
       "<div>\n",
       "<style scoped>\n",
       "    .dataframe tbody tr th:only-of-type {\n",
       "        vertical-align: middle;\n",
       "    }\n",
       "\n",
       "    .dataframe tbody tr th {\n",
       "        vertical-align: top;\n",
       "    }\n",
       "\n",
       "    .dataframe thead th {\n",
       "        text-align: right;\n",
       "    }\n",
       "</style>\n",
       "<table border=\"1\" class=\"dataframe\">\n",
       "  <thead>\n",
       "    <tr style=\"text-align: right;\">\n",
       "      <th></th>\n",
       "      <th>age</th>\n",
       "      <th>gender</th>\n",
       "      <th>fever</th>\n",
       "      <th>cough</th>\n",
       "      <th>city</th>\n",
       "      <th>has_covid</th>\n",
       "    </tr>\n",
       "  </thead>\n",
       "  <tbody>\n",
       "    <tr>\n",
       "      <th>0</th>\n",
       "      <td>60</td>\n",
       "      <td>Male</td>\n",
       "      <td>103.0</td>\n",
       "      <td>Mild</td>\n",
       "      <td>Kolkata</td>\n",
       "      <td>No</td>\n",
       "    </tr>\n",
       "    <tr>\n",
       "      <th>1</th>\n",
       "      <td>27</td>\n",
       "      <td>Male</td>\n",
       "      <td>100.0</td>\n",
       "      <td>Mild</td>\n",
       "      <td>Delhi</td>\n",
       "      <td>Yes</td>\n",
       "    </tr>\n",
       "    <tr>\n",
       "      <th>2</th>\n",
       "      <td>42</td>\n",
       "      <td>Male</td>\n",
       "      <td>101.0</td>\n",
       "      <td>Mild</td>\n",
       "      <td>Delhi</td>\n",
       "      <td>No</td>\n",
       "    </tr>\n",
       "    <tr>\n",
       "      <th>3</th>\n",
       "      <td>31</td>\n",
       "      <td>Female</td>\n",
       "      <td>98.0</td>\n",
       "      <td>Mild</td>\n",
       "      <td>Kolkata</td>\n",
       "      <td>No</td>\n",
       "    </tr>\n",
       "    <tr>\n",
       "      <th>4</th>\n",
       "      <td>65</td>\n",
       "      <td>Female</td>\n",
       "      <td>101.0</td>\n",
       "      <td>Mild</td>\n",
       "      <td>Mumbai</td>\n",
       "      <td>No</td>\n",
       "    </tr>\n",
       "  </tbody>\n",
       "</table>\n",
       "</div>"
      ],
      "text/plain": [
       "   age  gender  fever cough     city has_covid\n",
       "0   60    Male  103.0  Mild  Kolkata        No\n",
       "1   27    Male  100.0  Mild    Delhi       Yes\n",
       "2   42    Male  101.0  Mild    Delhi        No\n",
       "3   31  Female   98.0  Mild  Kolkata        No\n",
       "4   65  Female  101.0  Mild   Mumbai        No"
      ]
     },
     "execution_count": 29,
     "metadata": {},
     "output_type": "execute_result"
    }
   ],
   "source": [
    "df = pd.read_csv(\"C:\\\\Users\\\\HP\\\\Downloads\\\\covid_toy.csv\")\n",
    "df.head()"
   ]
  },
  {
   "cell_type": "code",
   "execution_count": 30,
   "id": "dae1998c",
   "metadata": {},
   "outputs": [
    {
     "data": {
      "text/plain": [
       "age           0.0\n",
       "gender        0.0\n",
       "fever        10.0\n",
       "cough         0.0\n",
       "city          0.0\n",
       "has_covid     0.0\n",
       "dtype: float64"
      ]
     },
     "execution_count": 30,
     "metadata": {},
     "output_type": "execute_result"
    }
   ],
   "source": [
    "df.isnull().mean()*100"
   ]
  },
  {
   "cell_type": "code",
   "execution_count": 40,
   "id": "96edd6f5",
   "metadata": {},
   "outputs": [],
   "source": [
    "from sklearn.impute import SimpleImputer\n",
    "\n",
    "imputer = SimpleImputer(strategy='mean')\n",
    "\n",
    "\n",
    "fever_column = df[['fever']]\n",
    "\n",
    "imputer = SimpleImputer(strategy='most_frequent')\n",
    "\n",
    "\n",
    "fever_column_imputed = imputer.fit_transform(fever_column)\n",
    "\n",
    "df['fever'] = fever_column_imputed\n"
   ]
  },
  {
   "cell_type": "code",
   "execution_count": 41,
   "id": "1b4edff3",
   "metadata": {},
   "outputs": [
    {
     "data": {
      "text/plain": [
       "age          0.0\n",
       "gender       0.0\n",
       "fever        0.0\n",
       "cough        0.0\n",
       "city         0.0\n",
       "has_covid    0.0\n",
       "dtype: float64"
      ]
     },
     "execution_count": 41,
     "metadata": {},
     "output_type": "execute_result"
    }
   ],
   "source": [
    "df.isnull().mean()*100"
   ]
  },
  {
   "cell_type": "code",
   "execution_count": 42,
   "id": "13a623a3",
   "metadata": {},
   "outputs": [],
   "source": [
    "# cols = [var for var in df.columns if df[var].isnull().mean()<0.5 and df[var].isnull().mean() > 0]\n",
    "# cols"
   ]
  },
  {
   "cell_type": "code",
   "execution_count": 43,
   "id": "0c6fdb74",
   "metadata": {},
   "outputs": [],
   "source": [
    "# df[cols].head()"
   ]
  },
  {
   "cell_type": "code",
   "execution_count": null,
   "id": "b90d379d",
   "metadata": {},
   "outputs": [],
   "source": []
  }
 ],
 "metadata": {
  "kernelspec": {
   "display_name": "Python 3 (ipykernel)",
   "language": "python",
   "name": "python3"
  },
  "language_info": {
   "codemirror_mode": {
    "name": "ipython",
    "version": 3
   },
   "file_extension": ".py",
   "mimetype": "text/x-python",
   "name": "python",
   "nbconvert_exporter": "python",
   "pygments_lexer": "ipython3",
   "version": "3.11.4"
  }
 },
 "nbformat": 4,
 "nbformat_minor": 5
}
