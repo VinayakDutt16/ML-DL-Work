{
 "cells": [
  {
   "cell_type": "markdown",
   "id": "b6aec747",
   "metadata": {},
   "source": [
    "## adagrad --> automatic learning rate but due to direction it will be high and low when extreme low learning rate gives vanishing gradients\n",
    "rms prop --> add a constant to counter low learning rate "
   ]
  },
  {
   "cell_type": "markdown",
   "id": "80ba580a",
   "metadata": {},
   "source": [
    "# Activations Functions"
   ]
  },
  {
   "cell_type": "markdown",
   "id": "e09e9555",
   "metadata": {},
   "source": [
    "## Activation functions are mathematical functions applied to the outputs of individual neurons in a neural network. They introduce non-linearity into the network, allowing it to learn and approximate complex reltionships between inputs and outputs\n",
    "\n",
    "some commonly used activation functions in deep learning: \n",
    "    \n",
    "(1). Sigmoid Funciton (Logistic Function): It maps the input to a value between 0 and 1 . It was widely used in the past bot it is now less popular due to some drawbacks such as vanishing gradients.\n",
    "\n",
    "(2). Hypebolic tangent function(tanh): Similar to the sigmoid function, but it maps the input to a value between -1 and 1. It is still used in some cases, but it also suffers from vanishing gradients.\n",
    "    \n",
    "(3.) Rectified linear unit(ReLU): This functions sets all negative values to zero and keeps positve values unchanged. It is the most popular activation function in deep learning due to its simplicity and effectiveness in training deep neural networks.\n",
    "    \n",
    "(4.) Leaky ReLU: This function is similar to ReLU but allows a small negative slope for negative input values. It helps mitigate the \"dying ReLU\" problem where some neurons can become permanently inactive during trining.\n",
    "    \n",
    "(5.) Parametric ReLU(PReLU): PReLU is a generalization of ReLU that introduces a learnable parameter to determine the slope of neagative input values. It offers more flexibility and can improve model performance.\n",
    "    \n",
    "(6.) Exponential Linear Unit(ELU): ELU is a version of ReLU that allows negative values with a smooth exponential deacy. It helps alleviate the dying ReLU problem and can produce more robust models.\n",
    "    \n",
    "(7.) Softmax : Softmax is commonly used in the output layer of a neural network for multi-classsification problems. It normalizes the output to represent probabilities, ensuring that the sum of all probailities is 1/"
   ]
  },
  {
   "cell_type": "markdown",
   "id": "7ef734f6",
   "metadata": {},
   "source": [
    "# Activation Functions are essential in deep learning for the following reasons:\n",
    "\n",
    "(1). Non-linearity : Activation functions introduces non-linear transformations to the network, enabling it to learn complex patterns and relationships in the data Without activation functions, a neural network would simply be a linear model\n",
    "    \n",
    "(2). Gradient Propogation : Activation functions helps propagate gradients backward during the training process, allowing efficent optimization and learning. Different activation functions have different characterstics in terms of gradient behavior, which can impact the model's training dynamics.\n",
    "    \n",
    "(3). Model Capacity : The choice of activation function can influence the capcity and expressive power of a neural network. Non-linear activation functions enable the network to represent more complex functions, expanding its ability to learn and generalize.\n",
    "    \n",
    "By using suitable activation functions, deep learning models can learn and approximate highly nonlinear functions, making them powerful tools for tasks such as image recognition, natural language processing , and speech recognition"
   ]
  },
  {
   "cell_type": "code",
   "execution_count": 1,
   "id": "a98ee4ef",
   "metadata": {},
   "outputs": [
    {
     "name": "stdout",
     "output_type": "stream",
     "text": [
      "Sigmoid( 2.5 ) = 0.9241418199787566\n"
     ]
    }
   ],
   "source": [
    "import numpy as np\n",
    "\n",
    "def sigmoid(x):\n",
    "    return 1 / (1+ np.exp(-x))\n",
    "\n",
    "# Example usage\n",
    "\n",
    "x = 2.5\n",
    "result = sigmoid(x)\n",
    "print(\"Sigmoid(\",x,\") =\",result)"
   ]
  },
  {
   "cell_type": "markdown",
   "id": "ff202e88",
   "metadata": {},
   "source": [
    "# tanh activation function\n",
    "\n",
    "Inshort, the hyperbolic tangent activation function (tanh) is a valuable tool in deep learning. It provides non-linearity, a sleeper gradient, and non zero-centered outputs, allowing neural networks to model complex patterns and improve training dynamics."
   ]
  },
  {
   "cell_type": "code",
   "execution_count": 5,
   "id": "2ff287cf",
   "metadata": {},
   "outputs": [
    {
     "name": "stdout",
     "output_type": "stream",
     "text": [
      "Epoch 1/10\n",
      "25/25 [==============================] - 4s 7ms/step - loss: 0.6123 - accuracy: 0.6700\n",
      "Epoch 2/10\n",
      "25/25 [==============================] - 0s 7ms/step - loss: 0.4354 - accuracy: 0.8150\n",
      "Epoch 3/10\n",
      "25/25 [==============================] - 0s 10ms/step - loss: 0.3945 - accuracy: 0.8288\n",
      "Epoch 4/10\n",
      "25/25 [==============================] - 0s 10ms/step - loss: 0.3767 - accuracy: 0.8325\n",
      "Epoch 5/10\n",
      "25/25 [==============================] - 0s 5ms/step - loss: 0.3652 - accuracy: 0.8537\n",
      "Epoch 6/10\n",
      "25/25 [==============================] - 0s 4ms/step - loss: 0.3535 - accuracy: 0.8525\n",
      "Epoch 7/10\n",
      "25/25 [==============================] - 0s 3ms/step - loss: 0.3384 - accuracy: 0.8625\n",
      "Epoch 8/10\n",
      "25/25 [==============================] - 0s 3ms/step - loss: 0.3296 - accuracy: 0.8587\n",
      "Epoch 9/10\n",
      "25/25 [==============================] - 0s 3ms/step - loss: 0.3160 - accuracy: 0.8725\n",
      "Epoch 10/10\n",
      "25/25 [==============================] - 0s 3ms/step - loss: 0.3037 - accuracy: 0.8712\n",
      "7/7 [==============================] - 0s 4ms/step - loss: 0.2704 - accuracy: 0.8850\n",
      "Test Loss :  0.27044376730918884\n",
      "Test Accuracy :  0.8849999904632568\n"
     ]
    }
   ],
   "source": [
    "import numpy as np\n",
    "from sklearn.datasets import make_classification\n",
    "from sklearn.model_selection import train_test_split\n",
    "from tensorflow.keras.models import Sequential\n",
    "from tensorflow.keras.layers import Dense, Activation\n",
    "\n",
    "X , y = make_classification(n_samples = 1000, n_features = 10, n_informative= 5, random_state = 42)\n",
    "\n",
    "# Split the data into training and testing sets\n",
    "X_train, X_test, y_train, y_test = train_test_split(X,y, test_size = 0.2, random_state = 42)\n",
    "\n",
    "#Build the neuarl network model\n",
    "model = Sequential()\n",
    "model.add(Dense(64, activation = 'tanh', input_shape = (X_train.shape[1],)))\n",
    "model.add(Dense(64, activation = 'tanh'))\n",
    "model.add(Dense(1, activation = 'sigmoid'))\n",
    "\n",
    "#compile the model\n",
    "model.compile(optimizer = 'adam', loss = 'binary_crossentropy', metrics = ['accuracy'])\n",
    "\n",
    "#train the model\n",
    "model.fit(X_train, y_train, epochs = 10, batch_size =32)\n",
    "\n",
    "#Evaluate the model on testing data\n",
    "loss, accuracy = model.evaluate(X_test, y_test)\n",
    "print(\"Test Loss : \", loss)\n",
    "print(\"Test Accuracy : \",accuracy)"
   ]
  },
  {
   "cell_type": "code",
   "execution_count": 8,
   "id": "b2b7c852",
   "metadata": {},
   "outputs": [
    {
     "data": {
      "image/png": "[encoded data removed]",
      "text/plain": [
       "<Figure size 640x480 with 1 Axes>"
      ]
     },
     "metadata": {},
     "output_type": "display_data"
    }
   ],
   "source": [
    "import numpy as np\n",
    "import matplotlib.pyplot as plt\n",
    "\n",
    "#Generate x values ranging from -5 to 5\n",
    "x = np.linspace(-5,5,100)\n",
    "\n",
    "#Compute the tanh values for each x\n",
    "y = np.tanh(x)\n",
    "\n",
    "plt.plot(x,y,label = 'tanh(x)')\n",
    "plt.xlabel('x')\n",
    "plt.ylabel('tanh(x)')\n",
    "plt.title('Hyperbolic Tangent (tanh) Activation Function')\n",
    "plt.legend()\n",
    "plt.grid(True)\n",
    "plt.show()"
   ]
  },
  {
   "cell_type": "markdown",
   "id": "d58b9c68",
   "metadata": {},
   "source": [
    "# 3. ReLU(Rectified Linear Unit)\n",
    "The Rectified Linear Unit(ReLU) activation function is a popular choice in deep learning neural networks due to its simplicity and effectiveness. It introduces\n",
    "non - linearity to the network, allowing it to learn and approximate complex relationships between inputs and outputs. ReLU has become a standard activation function in many deep learning architectures.\n",
    "\n",
    "The ReLU function is defined as follows:\n",
    "\n",
    "ReLU(x) = max(0,x)\n",
    "\n",
    "In other words, ReLU takes an input value x and returns the maximum of 0 and x . If x is greater than 0, ReLU outputs x directly. If x is less than or equal to 0. ReLU outputs 0. Therefore, the function \"rectifies\" negative values to zero, while leaving positive values Unchanged"
   ]
  },
  {
   "cell_type": "markdown",
   "id": "0f9b6a11",
   "metadata": {},
   "source": [
    "# ReLU has several desirable properties that make it an attractive choice:\n",
    "    \n",
    "(1). Simplicity: ReLU is a simple mathematical function with low computational complexity. It only involves a single comparision and a maximum operation.\n",
    "    \n",
    "(2). Non-Linearity: ReLU introduces non-linear behavior to the network, which allows it to learn and represents complex patterns in the data. This non-linearity is crucial for modeling highly nonlinear realtionships between inputs and outputs.\n",
    "\n",
    "(3). Sparse activation: ReLU activations are sparse, meaning that only a subset of the neurons in a layer will be activated at any given \n",
    "\n",
    "(4). Avoiding the vanishing gradient problem: \n",
    "    \n",
    "(5). Efficient computation:"
   ]
  },
  {
   "cell_type": "markdown",
   "id": "eb49e6e0",
   "metadata": {},
   "source": [
    "# Disadvantages of ReLU : \n",
    "    \n",
    "(1). Dead Neurons: During training , some neurons may become \"dead\" or \"dying\" as they never activate (output zero) for any input. This happens when the neuron's bias term is initalized in such a way that the weighted sum of inputs is always negative. Once a neuron becomes dead , it cannot recover because the gradient of the ReLU function is zero for negative inputs. Dead neurons can lead to a decrease in the model's representational capacity.\n",
    "\n",
    "(2). Output Saturation: ReLU saturates at zero for negative inputs. This means that when the input is negative, the gradient becomes zero, causing the neurons to be non-responsive to further changes. The saturation behavior can limit the abiltiy "
   ]
  },
  {
   "cell_type": "code",
   "execution_count": 2,
   "id": "cc9674d2",
   "metadata": {},
   "outputs": [
    {
     "name": "stdout",
     "output_type": "stream",
     "text": [
      "[0. 2. 0. 3.]\n"
     ]
    }
   ],
   "source": [
    "import tensorflow as tf\n",
    "\n",
    "#Define the tensor\n",
    "input_tensor = tf.constant([-1.0, 2.0, -0.5, 3.0])\n",
    "\n",
    "#Apply ReLU activation function\n",
    "output_tensor = tf.nn.relu(input_tensor)\n",
    "\n",
    "# print the o/p\n",
    "print(output_tensor.numpy())"
   ]
  },
  {
   "cell_type": "code",
   "execution_count": 7,
   "id": "d95ad308",
   "metadata": {},
   "outputs": [
    {
     "name": "stdout",
     "output_type": "stream",
     "text": [
      "1/1 [==============================] - 0s 237ms/step\n",
      "Predicted output: [[0.47445124 0.75711185]]\n"
     ]
    }
   ],
   "source": [
    "import tensorflow as tf\n",
    "import numpy as np\n",
    "from tensorflow import keras\n",
    "\n",
    "# Define the neural network architecture\n",
    "input_size = 4\n",
    "hidden_size =8\n",
    "output_size = 2\n",
    "\n",
    "# Define the model\n",
    "model = keras.Sequential([\n",
    "    keras.layers.Dense(hidden_size, activation = 'relu', input_shape = (input_size,)),\n",
    "    keras.layers.Dense(output_size)\n",
    "])\n",
    "\n",
    "#Compile the model\n",
    "model.compile(optimizer = keras.optimizers.SGD(learning_rate = 0.01),\n",
    "              loss=keras.losses.MeanSquaredError())\n",
    "# Define your input and target data as numpy arrays\n",
    "input_data = np.array([[1.0, 2.0, 3.0,4.0],\n",
    "                     [2.0,3.0,4.0,5.0],\n",
    "                     [3.0,4.0,5.0,6.0]])\n",
    "target_data = np.array([[0.5,0.8],\n",
    "                      [0.6,0.9],\n",
    "                      [0.7,1.0]])\n",
    "model.fit(input_data, target_data, epochs = 1000, verbose = 0)\n",
    "\n",
    "#Test the model\n",
    "test_input = np.array([[1.0,2.0,3.0,4.0]])\n",
    "predicted_output = model.predict(test_input)\n",
    "\n",
    "print(f\"Predicted output: {predicted_output}\")"
   ]
  },
  {
   "cell_type": "code",
   "execution_count": 8,
   "id": "50aaa34d",
   "metadata": {},
   "outputs": [
    {
     "name": "stdout",
     "output_type": "stream",
     "text": [
      "Epoch 1/10\n",
      "25/25 [==============================] - 3s 3ms/step - loss: 0.5427 - accuracy: 0.7563\n",
      "Epoch 2/10\n",
      "25/25 [==============================] - 0s 2ms/step - loss: 0.3944 - accuracy: 0.8763\n",
      "Epoch 3/10\n",
      "25/25 [==============================] - 0s 3ms/step - loss: 0.3345 - accuracy: 0.8800\n",
      "Epoch 4/10\n",
      "25/25 [==============================] - 0s 3ms/step - loss: 0.3035 - accuracy: 0.8925\n",
      "Epoch 5/10\n",
      "25/25 [==============================] - 0s 3ms/step - loss: 0.2836 - accuracy: 0.8988\n",
      "Epoch 6/10\n",
      "25/25 [==============================] - 0s 4ms/step - loss: 0.2664 - accuracy: 0.8963\n",
      "Epoch 7/10\n",
      "25/25 [==============================] - 0s 4ms/step - loss: 0.2493 - accuracy: 0.9075\n",
      "Epoch 8/10\n",
      "25/25 [==============================] - 0s 5ms/step - loss: 0.2300 - accuracy: 0.9100\n",
      "Epoch 9/10\n",
      "25/25 [==============================] - 0s 4ms/step - loss: 0.2208 - accuracy: 0.9162\n",
      "Epoch 10/10\n",
      "25/25 [==============================] - 0s 3ms/step - loss: 0.2057 - accuracy: 0.9187\n",
      "7/7 [==============================] - 0s 4ms/step - loss: 0.1836 - accuracy: 0.9300\n",
      "Test Loss :  0.18364645540714264\n",
      "Test Accuracy :  0.9300000071525574\n"
     ]
    }
   ],
   "source": [
    "import numpy as np\n",
    "from sklearn.datasets import make_classification\n",
    "from sklearn.model_selection import train_test_split\n",
    "from tensorflow.keras.models import Sequential\n",
    "from tensorflow.keras.layers import Dense, Activation\n",
    "\n",
    "X , y = make_classification(n_samples = 1000, n_features = 10, n_informative= 5, random_state = 42)\n",
    "\n",
    "# Split the data into training and testing sets\n",
    "X_train, X_test, y_train, y_test = train_test_split(X,y, test_size = 0.2, random_state = 42)\n",
    "\n",
    "#Build the neuarl network model\n",
    "model = Sequential()\n",
    "model.add(Dense(64, activation = 'relu', input_shape = (X_train.shape[1],)))\n",
    "model.add(Dense(64, activation = 'relu'))\n",
    "model.add(Dense(1, activation = 'sigmoid'))\n",
    "\n",
    "#compile the model\n",
    "model.compile(optimizer = 'adam', loss = 'binary_crossentropy', metrics = ['accuracy'])\n",
    "\n",
    "#train the model\n",
    "model.fit(X_train, y_train, epochs = 10, batch_size =32)\n",
    "\n",
    "#Evaluate the model on testing data\n",
    "loss, accuracy = model.evaluate(X_test, y_test)\n",
    "print(\"Test Loss : \", loss)\n",
    "print(\"Test Accuracy : \",accuracy)"
   ]
  },
  {
   "cell_type": "markdown",
   "id": "36b28b64",
   "metadata": {},
   "source": [
    "# The Leaky Rectified Linear Unit (Leaky ReLU) activation function is a variation of the ReLU activation function that addresses some of the limitations of the standard ReLU. It introduces a small slope for negative values , allowing the activation function to have non-zero outputs even for negative inputs. This helps mitigate the issue of \"dying\" or \"dead\" neurons in ReLU.\n",
    "\n",
    "The Leaky ReLU function is defines as follows:\n",
    "\n",
    "LeakyReLU(x) = max(ax,x)\n",
    "\n",
    "where 'a' is small constant (usaully a small positive value), and 'x' is the input value. If 'x' is greater than or equal to zero, Leaky ReLU behaves the same as ReLU, outputting 'x' directly. However, if 'x' is neagtive, Leaky ReLU outputs the product of 'a' and 'x'.\n",
    "\n",
    "The inclusion of small slope for negative inputs in a Leaky ReLU helps address the issue of dead neurons that can occur in ReLU. When neurons become dead, they output zero  for all inputs , preventing from beocoming compleaxity non-responsive.\n",
    "\n",
    "The Benefits of Leaky ReLU can be summarzized as follows : 1\n",
    "    \n",
    "(1). Solving the dying ReLU problem : By introducing a small steps for negative inputs, ReLU avoids the issue of dead neurons that can occour in the ReLU. The small slope ensures that even for negative inputs contribute to the gradient, allowing  neurons to recover from non-activation.\n",
    "\n",
    "(2). Non-zero outputs for negative inputs: Leaky ReLU provides non-zero outputs for neagtive inputs, allowing the model to learn from both positive and neagtive activations . This property can be useful in situations where negative values are meaningful or when the data distributions include negative values.\n",
    "    \n",
    "(3). Simplicity and Computational efficiency : Leaky ReLU, like ReLU , is a simple mathematical function and has low computational complexity. It can be  \n"
   ]
  },
  {
   "cell_type": "code",
   "execution_count": 6,
   "id": "dfc3f8dc",
   "metadata": {
    "scrolled": true
   },
   "outputs": [
    {
     "name": "stdout",
     "output_type": "stream",
     "text": [
      "WARNING:tensorflow:The following Variables were used in a Lambda layer's call (tf.linalg.matmul_10), but are not present in its tracked objects:   <tf.Variable 'Variable:0' shape=(4, 8) dtype=float32>. This is a strong indication that the Lambda layer should be rewritten as a subclassed Layer.\n",
      "WARNING:tensorflow:The following Variables were used in a Lambda layer's call (tf.linalg.matmul_11), but are not present in its tracked objects:   <tf.Variable 'Variable:0' shape=(8, 2) dtype=float32>. This is a strong indication that the Lambda layer should be rewritten as a subclassed Layer.\n",
      "1/1 [==============================] - 0s 160ms/step\n",
      "Predicted Output: [[ 2.503906  -1.6379392]]\n"
     ]
    }
   ],
   "source": [
    "import tensorflow as tf\n",
    "import numpy as np\n",
    "\n",
    "#Define the neural network architecture\n",
    "input_size = 4\n",
    "hidden_size = 8\n",
    "output_size = 2\n",
    "\n",
    "#Create the input and target tensors\n",
    "inputs = tf.keras.Input(shape = (input_size,))\n",
    "targets = tf.keras.Input(shape = (output_size,))\n",
    "\n",
    "#Define the weights and biases for the hidden layer\n",
    "hidden_weights = tf.Variable(tf.random.normal(shape = (input_size, hidden_size)))\n",
    "hidden_biases = tf.Variable(tf.zeros(shape = (hidden_size,)))\n",
    "\n",
    "#Compute the hidden layer output with leaky ReLU activation function\n",
    "hidden_layer_output = tf.nn.leaky_relu(tf.matmul(inputs, hidden_weights)+hidden_biases, alpha = 0.2)\n",
    "\n",
    "output_weights = tf.Variable(tf.random.normal(shape = (hidden_size, output_size)))\n",
    "output_biases = tf.Variable(tf.zeros(shape=(output_size,)))\n",
    "\n",
    "output = tf.matmul(hidden_layer_output, output_weights) + output_biases\n",
    "\n",
    "loss = tf.reduce_mean(tf.square(output - targets))\n",
    "\n",
    "optimizer = tf.keras.optimizers.SGD(learning_rate = 0.01)\n",
    "model = tf.keras.Model(inputs = [inputs, targets], outputs = output)\n",
    "model.add_loss(loss)\n",
    "\n",
    "model.compile(optimizer = optimizer)\n",
    "\n",
    "input_data = np.array([[1.0,2.0,3.0,4.0]])\n",
    "target_data = np.array([[0.5,0.8]])\n",
    "\n",
    "model.fit([input_data, target_data], epochs = 1000, verbose = 0)\n",
    "\n",
    "test_input = np.array([[1.0,2.0,3.0,4.0]])\n",
    "test_target = np.array([[0.0,0.0]])\n",
    "\n",
    "model.fit([input_data, target_data],epochs = 1000, verbose = 0)\n",
    "predicted_output = model.predict([test_input, test_target])\n",
    "\n",
    "print(f\"Predicted Output: {predicted_output}\")\n"
   ]
  },
  {
   "cell_type": "markdown",
   "id": "7a6d9a34",
   "metadata": {},
   "source": [
    "# ELU(Exopnential Linear Unit)\n",
    "\n",
    "The Exponential Linear Unit(ELU) activation function is a variant of the Rectified Linear Unit (ReLU) activation function that introduces a neagtive saturation regime to handle inputs. It aims to address the limitation of the ReLU function, such as the \"dying ReLU\" problem and the lack of activation for negative inputs.\n",
    "\n",
    "The ELU activation function is defined as follows:\n",
    "    \n",
    "ELU(x) = x if x >= 0, alpha * (exp(x) - 1) if x<0,\n",
    "\n",
    "where 'x' is the input value and 'alpha' is a hyperparmeter that controls the function's behavior for negative inputs."
   ]
  },
  {
   "cell_type": "code",
   "execution_count": 6,
   "id": "591568d4",
   "metadata": {},
   "outputs": [
    {
     "name": "stdout",
     "output_type": "stream",
     "text": [
      "Model: \"sequential_5\"\n",
      "_________________________________________________________________\n",
      " Layer (type)                Output Shape              Param #   \n",
      "=================================================================\n",
      " dense_8 (Dense)             (None, 8)                 40        \n",
      "                                                                 \n",
      " dense_9 (Dense)             (None, 2)                 18        \n",
      "                                                                 \n",
      "=================================================================\n",
      "Total params: 58 (232.00 Byte)\n",
      "Trainable params: 58 (232.00 Byte)\n",
      "Non-trainable params: 0 (0.00 Byte)\n",
      "_________________________________________________________________\n",
      "1/1 [==============================] - 0s 448ms/step\n",
      "Predicted Output: [[2.39344   1.3614452]]\n"
     ]
    }
   ],
   "source": [
    "import tensorflow as tf\n",
    "\n",
    "#Ddefine input data\n",
    "\n",
    "input_data = [[1.0,2.0, -3.0,4.0]]\n",
    "target_data = [[1.0,2.0]] #Adjusted target data shape to (1,2)\n",
    "\n",
    "#Create a sequential model\n",
    "model = tf.keras.Sequential()\n",
    "\n",
    "#Add a dense layer with ELU activation function\n",
    "model.add(tf.keras.layers.Dense(8,activation = tf.nn.elu, input_shape = (4,)))\n",
    "\n",
    "model.add(tf.keras.layers.Dense(2))\n",
    "\n",
    "# Print model summary\n",
    "model.summary()\n",
    "\n",
    "model.compile(optimizer = 'adam', loss = 'mse')\n",
    "\n",
    "# Train the model\n",
    "\n",
    "model.fit(input_data, target_data, epochs = 1000, verbose = 0)\n",
    "\n",
    "test_input = [[1.0,2.0,3.0,4.0]]\n",
    "predicted_output = model.predict(test_input)\n",
    "print(f\"Predicted Output: {predicted_output}\")"
   ]
  },
  {
   "cell_type": "markdown",
   "id": "69d7fbf3",
   "metadata": {},
   "source": [
    "# Softmax Function\n",
    "\n",
    "The softmax function is primarily used in the output layer of a neural network for multi-class classification problems. It provides a convenient way to interpret the outputs as probabilities and make predictions based on the highest probability class. The most common loss function used with softmax is the categorical\n",
    "cross-entropy loss, which measures the difference between the predicted probabilities and the true class label"
   ]
  },
  {
   "cell_type": "code",
   "execution_count": 9,
   "id": "7d76f842",
   "metadata": {},
   "outputs": [
    {
     "name": "stdout",
     "output_type": "stream",
     "text": [
      "Model: \"sequential_8\"\n",
      "_________________________________________________________________\n",
      " Layer (type)                Output Shape              Param #   \n",
      "=================================================================\n",
      " dense_12 (Dense)            (None, 3)                 12        \n",
      "                                                                 \n",
      " activation_2 (Activation)   (None, 3)                 0         \n",
      "                                                                 \n",
      "=================================================================\n",
      "Total params: 12 (48.00 Byte)\n",
      "Trainable params: 12 (48.00 Byte)\n",
      "Non-trainable params: 0 (0.00 Byte)\n",
      "_________________________________________________________________\n",
      "1/1 [==============================] - 0s 238ms/step\n",
      "Softmax Output:\n",
      "[[0.06365509 0.54629767 0.39004728]\n",
      " [0.00892236 0.36863533 0.6224423 ]]\n"
     ]
    }
   ],
   "source": [
    "import tensorflow as tf \n",
    "\n",
    "input_data = [[0.5,1.2,0.8],[2.1,0.3,1.5]]\n",
    "\n",
    "#Create the sequential model\n",
    "model = tf.keras.Sequential()\n",
    "\n",
    "# Add a dense layer without activation function \n",
    "model.add(tf.keras.layers.Dense(3,input_shape = (3,)))\n",
    "\n",
    "# Apply softmax activation function\n",
    "model.add(tf.keras.layers.Activation('softmax'))\n",
    "\n",
    "#Print model Summary\n",
    "model.summary()\n",
    "\n",
    "#Compute softmax output\n",
    "softmax_output = model.predict(input_data)\n",
    "\n",
    "print(\"Softmax Output:\")\n",
    "print(softmax_output)"
   ]
  },
  {
   "cell_type": "code",
   "execution_count": null,
   "id": "ae2321e0",
   "metadata": {},
   "outputs": [],
   "source": [
    "+"
   ]
  }
 ],
 "metadata": {
  "kernelspec": {
   "display_name": "Python 3 (ipykernel)",
   "language": "python",
   "name": "python3"
  },
  "language_info": {
   "codemirror_mode": {
    "name": "ipython",
    "version": 3
   },
   "file_extension": ".py",
   "mimetype": "text/x-python",
   "name": "python",
   "nbconvert_exporter": "python",
   "pygments_lexer": "ipython3",
   "version": "3.11.4"
  }
 },
 "nbformat": 4,
 "nbformat_minor": 5
}
