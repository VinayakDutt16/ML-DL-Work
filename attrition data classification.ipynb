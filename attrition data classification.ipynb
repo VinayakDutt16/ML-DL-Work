{
 "cells": [
  {
   "cell_type": "markdown",
   "id": "97f13296",
   "metadata": {},
   "source": [
    "# Q.3 Build a machine learning model to predict employee attrition in a company. By analyzing factors like job satisfaction, salary, and work-life balance, organizations can take measures to retain valuable employees."
   ]
  },
  {
   "cell_type": "code",
   "execution_count": 1,
   "id": "f3b4a0f7",
   "metadata": {},
   "outputs": [],
   "source": [
    "import numpy as np\n",
    "import pandas as pd"
   ]
  },
  {
   "cell_type": "code",
   "execution_count": 2,
   "id": "6f993e67",
   "metadata": {},
   "outputs": [],
   "source": [
    "df = pd.read_csv(\"C:\\\\Users\\\\gajendra singh\\\\OneDrive\\\\Desktop\\\\pandas\\\\Attrition.csv\")"
   ]
  },
  {
   "cell_type": "code",
   "execution_count": 6,
   "id": "1a2acaf3",
   "metadata": {},
   "outputs": [
    {
     "data": {
      "text/html": [
       "<div>\n",
       "<style scoped>\n",
       "    .dataframe tbody tr th:only-of-type {\n",
       "        vertical-align: middle;\n",
       "    }\n",
       "\n",
       "    .dataframe tbody tr th {\n",
       "        vertical-align: top;\n",
       "    }\n",
       "\n",
       "    .dataframe thead th {\n",
       "        text-align: right;\n",
       "    }\n",
       "</style>\n",
       "<table border=\"1\" class=\"dataframe\">\n",
       "  <thead>\n",
       "    <tr style=\"text-align: right;\">\n",
       "      <th></th>\n",
       "      <th>Age</th>\n",
       "      <th>Attrition</th>\n",
       "      <th>BusinessTravel</th>\n",
       "      <th>DailyRate</th>\n",
       "      <th>Department</th>\n",
       "      <th>DistanceFromHome</th>\n",
       "      <th>Education</th>\n",
       "      <th>EducationField</th>\n",
       "      <th>EmployeeCount</th>\n",
       "      <th>EmployeeNumber</th>\n",
       "      <th>...</th>\n",
       "      <th>RelationshipSatisfaction</th>\n",
       "      <th>StandardHours</th>\n",
       "      <th>StockOptionLevel</th>\n",
       "      <th>TotalWorkingYears</th>\n",
       "      <th>TrainingTimesLastYear</th>\n",
       "      <th>WorkLifeBalance</th>\n",
       "      <th>YearsAtCompany</th>\n",
       "      <th>YearsInCurrentRole</th>\n",
       "      <th>YearsSinceLastPromotion</th>\n",
       "      <th>YearsWithCurrManager</th>\n",
       "    </tr>\n",
       "  </thead>\n",
       "  <tbody>\n",
       "    <tr>\n",
       "      <th>0</th>\n",
       "      <td>41</td>\n",
       "      <td>Yes</td>\n",
       "      <td>Travel_Rarely</td>\n",
       "      <td>1102</td>\n",
       "      <td>Sales</td>\n",
       "      <td>1</td>\n",
       "      <td>2</td>\n",
       "      <td>Life Sciences</td>\n",
       "      <td>1</td>\n",
       "      <td>1</td>\n",
       "      <td>...</td>\n",
       "      <td>1</td>\n",
       "      <td>80</td>\n",
       "      <td>0</td>\n",
       "      <td>8</td>\n",
       "      <td>0</td>\n",
       "      <td>1</td>\n",
       "      <td>6</td>\n",
       "      <td>4</td>\n",
       "      <td>0</td>\n",
       "      <td>5</td>\n",
       "    </tr>\n",
       "    <tr>\n",
       "      <th>1</th>\n",
       "      <td>49</td>\n",
       "      <td>No</td>\n",
       "      <td>Travel_Frequently</td>\n",
       "      <td>279</td>\n",
       "      <td>Research &amp; Development</td>\n",
       "      <td>8</td>\n",
       "      <td>1</td>\n",
       "      <td>Life Sciences</td>\n",
       "      <td>1</td>\n",
       "      <td>2</td>\n",
       "      <td>...</td>\n",
       "      <td>4</td>\n",
       "      <td>80</td>\n",
       "      <td>1</td>\n",
       "      <td>10</td>\n",
       "      <td>3</td>\n",
       "      <td>3</td>\n",
       "      <td>10</td>\n",
       "      <td>7</td>\n",
       "      <td>1</td>\n",
       "      <td>7</td>\n",
       "    </tr>\n",
       "    <tr>\n",
       "      <th>2</th>\n",
       "      <td>37</td>\n",
       "      <td>Yes</td>\n",
       "      <td>Travel_Rarely</td>\n",
       "      <td>1373</td>\n",
       "      <td>Research &amp; Development</td>\n",
       "      <td>2</td>\n",
       "      <td>2</td>\n",
       "      <td>Other</td>\n",
       "      <td>1</td>\n",
       "      <td>4</td>\n",
       "      <td>...</td>\n",
       "      <td>2</td>\n",
       "      <td>80</td>\n",
       "      <td>0</td>\n",
       "      <td>7</td>\n",
       "      <td>3</td>\n",
       "      <td>3</td>\n",
       "      <td>0</td>\n",
       "      <td>0</td>\n",
       "      <td>0</td>\n",
       "      <td>0</td>\n",
       "    </tr>\n",
       "    <tr>\n",
       "      <th>3</th>\n",
       "      <td>33</td>\n",
       "      <td>No</td>\n",
       "      <td>Travel_Frequently</td>\n",
       "      <td>1392</td>\n",
       "      <td>Research &amp; Development</td>\n",
       "      <td>3</td>\n",
       "      <td>4</td>\n",
       "      <td>Life Sciences</td>\n",
       "      <td>1</td>\n",
       "      <td>5</td>\n",
       "      <td>...</td>\n",
       "      <td>3</td>\n",
       "      <td>80</td>\n",
       "      <td>0</td>\n",
       "      <td>8</td>\n",
       "      <td>3</td>\n",
       "      <td>3</td>\n",
       "      <td>8</td>\n",
       "      <td>7</td>\n",
       "      <td>3</td>\n",
       "      <td>0</td>\n",
       "    </tr>\n",
       "    <tr>\n",
       "      <th>4</th>\n",
       "      <td>27</td>\n",
       "      <td>No</td>\n",
       "      <td>Travel_Rarely</td>\n",
       "      <td>591</td>\n",
       "      <td>Research &amp; Development</td>\n",
       "      <td>2</td>\n",
       "      <td>1</td>\n",
       "      <td>Medical</td>\n",
       "      <td>1</td>\n",
       "      <td>7</td>\n",
       "      <td>...</td>\n",
       "      <td>4</td>\n",
       "      <td>80</td>\n",
       "      <td>1</td>\n",
       "      <td>6</td>\n",
       "      <td>3</td>\n",
       "      <td>3</td>\n",
       "      <td>2</td>\n",
       "      <td>2</td>\n",
       "      <td>2</td>\n",
       "      <td>2</td>\n",
       "    </tr>\n",
       "  </tbody>\n",
       "</table>\n",
       "<p>5 rows × 35 columns</p>\n",
       "</div>"
      ],
      "text/plain": [
       "   Age Attrition     BusinessTravel  DailyRate              Department  \\\n",
       "0   41       Yes      Travel_Rarely       1102                   Sales   \n",
       "1   49        No  Travel_Frequently        279  Research & Development   \n",
       "2   37       Yes      Travel_Rarely       1373  Research & Development   \n",
       "3   33        No  Travel_Frequently       1392  Research & Development   \n",
       "4   27        No      Travel_Rarely        591  Research & Development   \n",
       "\n",
       "   DistanceFromHome  Education EducationField  EmployeeCount  EmployeeNumber  \\\n",
       "0                 1          2  Life Sciences              1               1   \n",
       "1                 8          1  Life Sciences              1               2   \n",
       "2                 2          2          Other              1               4   \n",
       "3                 3          4  Life Sciences              1               5   \n",
       "4                 2          1        Medical              1               7   \n",
       "\n",
       "   ...  RelationshipSatisfaction StandardHours  StockOptionLevel  \\\n",
       "0  ...                         1            80                 0   \n",
       "1  ...                         4            80                 1   \n",
       "2  ...                         2            80                 0   \n",
       "3  ...                         3            80                 0   \n",
       "4  ...                         4            80                 1   \n",
       "\n",
       "   TotalWorkingYears  TrainingTimesLastYear WorkLifeBalance  YearsAtCompany  \\\n",
       "0                  8                      0               1               6   \n",
       "1                 10                      3               3              10   \n",
       "2                  7                      3               3               0   \n",
       "3                  8                      3               3               8   \n",
       "4                  6                      3               3               2   \n",
       "\n",
       "  YearsInCurrentRole  YearsSinceLastPromotion  YearsWithCurrManager  \n",
       "0                  4                        0                     5  \n",
       "1                  7                        1                     7  \n",
       "2                  0                        0                     0  \n",
       "3                  7                        3                     0  \n",
       "4                  2                        2                     2  \n",
       "\n",
       "[5 rows x 35 columns]"
      ]
     },
     "execution_count": 6,
     "metadata": {},
     "output_type": "execute_result"
    }
   ],
   "source": [
    "df.head()"
   ]
  },
  {
   "cell_type": "code",
   "execution_count": 4,
   "id": "f1716afd",
   "metadata": {},
   "outputs": [
    {
     "name": "stdout",
     "output_type": "stream",
     "text": [
      "<class 'pandas.core.frame.DataFrame'>\n",
      "RangeIndex: 1470 entries, 0 to 1469\n",
      "Data columns (total 35 columns):\n",
      " #   Column                    Non-Null Count  Dtype \n",
      "---  ------                    --------------  ----- \n",
      " 0   Age                       1470 non-null   int64 \n",
      " 1   Attrition                 1470 non-null   object\n",
      " 2   BusinessTravel            1470 non-null   object\n",
      " 3   DailyRate                 1470 non-null   int64 \n",
      " 4   Department                1470 non-null   object\n",
      " 5   DistanceFromHome          1470 non-null   int64 \n",
      " 6   Education                 1470 non-null   int64 \n",
      " 7   EducationField            1470 non-null   object\n",
      " 8   EmployeeCount             1470 non-null   int64 \n",
      " 9   EmployeeNumber            1470 non-null   int64 \n",
      " 10  EnvironmentSatisfaction   1470 non-null   int64 \n",
      " 11  Gender                    1470 non-null   object\n",
      " 12  HourlyRate                1470 non-null   int64 \n",
      " 13  JobInvolvement            1470 non-null   int64 \n",
      " 14  JobLevel                  1470 non-null   int64 \n",
      " 15  JobRole                   1470 non-null   object\n",
      " 16  JobSatisfaction           1470 non-null   int64 \n",
      " 17  MaritalStatus             1470 non-null   object\n",
      " 18  MonthlyIncome             1470 non-null   int64 \n",
      " 19  MonthlyRate               1470 non-null   int64 \n",
      " 20  NumCompaniesWorked        1470 non-null   int64 \n",
      " 21  Over18                    1470 non-null   object\n",
      " 22  OverTime                  1470 non-null   object\n",
      " 23  PercentSalaryHike         1470 non-null   int64 \n",
      " 24  PerformanceRating         1470 non-null   int64 \n",
      " 25  RelationshipSatisfaction  1470 non-null   int64 \n",
      " 26  StandardHours             1470 non-null   int64 \n",
      " 27  StockOptionLevel          1470 non-null   int64 \n",
      " 28  TotalWorkingYears         1470 non-null   int64 \n",
      " 29  TrainingTimesLastYear     1470 non-null   int64 \n",
      " 30  WorkLifeBalance           1470 non-null   int64 \n",
      " 31  YearsAtCompany            1470 non-null   int64 \n",
      " 32  YearsInCurrentRole        1470 non-null   int64 \n",
      " 33  YearsSinceLastPromotion   1470 non-null   int64 \n",
      " 34  YearsWithCurrManager      1470 non-null   int64 \n",
      "dtypes: int64(26), object(9)\n",
      "memory usage: 402.1+ KB\n"
     ]
    }
   ],
   "source": [
    "df.info()"
   ]
  },
  {
   "cell_type": "code",
   "execution_count": 7,
   "id": "46306de4",
   "metadata": {},
   "outputs": [
    {
     "name": "stdout",
     "output_type": "stream",
     "text": [
      "      Age Attrition     BusinessTravel  DailyRate              Department  \\\n",
      "0      41       Yes      Travel_Rarely       1102                   Sales   \n",
      "1      49        No  Travel_Frequently        279  Research & Development   \n",
      "2      37       Yes      Travel_Rarely       1373  Research & Development   \n",
      "3      33        No  Travel_Frequently       1392  Research & Development   \n",
      "4      27        No      Travel_Rarely        591  Research & Development   \n",
      "...   ...       ...                ...        ...                     ...   \n",
      "1465   36        No  Travel_Frequently        884  Research & Development   \n",
      "1466   39        No      Travel_Rarely        613  Research & Development   \n",
      "1467   27        No      Travel_Rarely        155  Research & Development   \n",
      "1468   49        No  Travel_Frequently       1023                   Sales   \n",
      "1469   34        No      Travel_Rarely        628  Research & Development   \n",
      "\n",
      "      DistanceFromHome  Education EducationField  EmployeeCount  \\\n",
      "0                    1          2  Life Sciences              1   \n",
      "1                    8          1  Life Sciences              1   \n",
      "2                    2          2          Other              1   \n",
      "3                    3          4  Life Sciences              1   \n",
      "4                    2          1        Medical              1   \n",
      "...                ...        ...            ...            ...   \n",
      "1465                23          2        Medical              1   \n",
      "1466                 6          1        Medical              1   \n",
      "1467                 4          3  Life Sciences              1   \n",
      "1468                 2          3        Medical              1   \n",
      "1469                 8          3        Medical              1   \n",
      "\n",
      "      EmployeeNumber  EnvironmentSatisfaction  Gender  HourlyRate  \\\n",
      "0                  1                        2  Female          94   \n",
      "1                  2                        3    Male          61   \n",
      "2                  4                        4    Male          92   \n",
      "3                  5                        4  Female          56   \n",
      "4                  7                        1    Male          40   \n",
      "...              ...                      ...     ...         ...   \n",
      "1465            2061                        3    Male          41   \n",
      "1466            2062                        4    Male          42   \n",
      "1467            2064                        2    Male          87   \n",
      "1468            2065                        4    Male          63   \n",
      "1469            2068                        2    Male          82   \n",
      "\n",
      "      JobInvolvement  JobLevel                    JobRole  JobSatisfaction  \\\n",
      "0                  3         2            Sales Executive                4   \n",
      "1                  2         2         Research Scientist                2   \n",
      "2                  2         1      Laboratory Technician                3   \n",
      "3                  3         1         Research Scientist                3   \n",
      "4                  3         1      Laboratory Technician                2   \n",
      "...              ...       ...                        ...              ...   \n",
      "1465               4         2      Laboratory Technician                4   \n",
      "1466               2         3  Healthcare Representative                1   \n",
      "1467               4         2     Manufacturing Director                2   \n",
      "1468               2         2            Sales Executive                2   \n",
      "1469               4         2      Laboratory Technician                3   \n",
      "\n",
      "     MaritalStatus  MonthlyIncome  MonthlyRate  NumCompaniesWorked Over18  \\\n",
      "0           Single           5993        19479                   8      Y   \n",
      "1          Married           5130        24907                   1      Y   \n",
      "2           Single           2090         2396                   6      Y   \n",
      "3          Married           2909        23159                   1      Y   \n",
      "4          Married           3468        16632                   9      Y   \n",
      "...            ...            ...          ...                 ...    ...   \n",
      "1465       Married           2571        12290                   4      Y   \n",
      "1466       Married           9991        21457                   4      Y   \n",
      "1467       Married           6142         5174                   1      Y   \n",
      "1468       Married           5390        13243                   2      Y   \n",
      "1469       Married           4404        10228                   2      Y   \n",
      "\n",
      "     OverTime  PercentSalaryHike  PerformanceRating  RelationshipSatisfaction  \\\n",
      "0         Yes                 11                  3                         1   \n",
      "1          No                 23                  4                         4   \n",
      "2         Yes                 15                  3                         2   \n",
      "3         Yes                 11                  3                         3   \n",
      "4          No                 12                  3                         4   \n",
      "...       ...                ...                ...                       ...   \n",
      "1465       No                 17                  3                         3   \n",
      "1466       No                 15                  3                         1   \n",
      "1467      Yes                 20                  4                         2   \n",
      "1468       No                 14                  3                         4   \n",
      "1469       No                 12                  3                         1   \n",
      "\n",
      "      StandardHours  StockOptionLevel  TotalWorkingYears  \\\n",
      "0                80                 0                  8   \n",
      "1                80                 1                 10   \n",
      "2                80                 0                  7   \n",
      "3                80                 0                  8   \n",
      "4                80                 1                  6   \n",
      "...             ...               ...                ...   \n",
      "1465             80                 1                 17   \n",
      "1466             80                 1                  9   \n",
      "1467             80                 1                  6   \n",
      "1468             80                 0                 17   \n",
      "1469             80                 0                  6   \n",
      "\n",
      "      TrainingTimesLastYear  WorkLifeBalance  YearsAtCompany  \\\n",
      "0                         0                1               6   \n",
      "1                         3                3              10   \n",
      "2                         3                3               0   \n",
      "3                         3                3               8   \n",
      "4                         3                3               2   \n",
      "...                     ...              ...             ...   \n",
      "1465                      3                3               5   \n",
      "1466                      5                3               7   \n",
      "1467                      0                3               6   \n",
      "1468                      3                2               9   \n",
      "1469                      3                4               4   \n",
      "\n",
      "      YearsInCurrentRole  YearsSinceLastPromotion  YearsWithCurrManager  \n",
      "0                      4                        0                     5  \n",
      "1                      7                        1                     7  \n",
      "2                      0                        0                     0  \n",
      "3                      7                        3                     0  \n",
      "4                      2                        2                     2  \n",
      "...                  ...                      ...                   ...  \n",
      "1465                   2                        0                     3  \n",
      "1466                   7                        1                     7  \n",
      "1467                   2                        0                     3  \n",
      "1468                   6                        0                     8  \n",
      "1469                   3                        1                     2  \n",
      "\n",
      "[1470 rows x 35 columns]\n"
     ]
    }
   ],
   "source": [
    "pd.set_option('display.max_columns', None)\n",
    "print(df)"
   ]
  },
  {
   "cell_type": "code",
   "execution_count": 9,
   "id": "4da38b8e",
   "metadata": {},
   "outputs": [
    {
     "name": "stdout",
     "output_type": "stream",
     "text": [
      "Average distance = 9.19251700680272\n",
      "Highest distance = 29\n",
      "Lowest distance = 1\n"
     ]
    }
   ],
   "source": [
    "print(f'Average distance = {df[\"DistanceFromHome\"].mean()}')\n",
    "print(f'Highest distance = {df[\"DistanceFromHome\"].max()}')\n",
    "print(f'Lowest distance = {df[\"DistanceFromHome\"].min()}')"
   ]
  },
  {
   "cell_type": "code",
   "execution_count": 11,
   "id": "7a0cf467",
   "metadata": {},
   "outputs": [
    {
     "name": "stdout",
     "output_type": "stream",
     "text": [
      "                   No  Yes\n",
      "DistanceFromHome          \n",
      "1                 182   26\n",
      "2                 183   28\n",
      "3                  70   14\n",
      "4                  55    9\n",
      "5                  55   10\n",
      "6                  52    7\n",
      "7                  73   11\n",
      "8                  70   10\n",
      "9                  67   18\n",
      "10                 75   11\n",
      "11                 25    4\n",
      "12                 14    6\n",
      "13                 13    6\n",
      "14                 17    4\n",
      "15                 21    5\n",
      "16                 25    7\n",
      "17                 15    5\n",
      "18                 22    4\n",
      "19                 19    3\n",
      "20                 21    4\n",
      "21                 15    3\n",
      "22                 13    6\n",
      "23                 22    5\n",
      "24                 16   12\n",
      "25                 19    6\n",
      "26                 22    3\n",
      "27                  9    3\n",
      "28                 21    2\n",
      "29                 22    5\n"
     ]
    }
   ],
   "source": [
    "attrition_by_distance = df.groupby(['DistanceFromHome', 'Attrition'])['Attrition'].count().unstack().fillna(0)\n",
    "\n",
    "# Rename the columns to 'Yes' and 'No' for readability\n",
    "attrition_by_distance.columns = ['No', 'Yes']\n",
    "\n",
    "# Display the result\n",
    "print(attrition_by_distance)"
   ]
  },
  {
   "cell_type": "markdown",
   "id": "0b40c229",
   "metadata": {},
   "source": [
    "# ATTRITION DUE TO LOWER SALARY THAN AVERAGE"
   ]
  },
  {
   "cell_type": "code",
   "execution_count": 14,
   "id": "f618012a",
   "metadata": {},
   "outputs": [
    {
     "name": "stdout",
     "output_type": "stream",
     "text": [
      "Average MonthlyIncome = 6502.931292517007\n",
      "Highest MonthlyIncome = 19999\n",
      "Lowest MonthlyIncome = 1009\n"
     ]
    }
   ],
   "source": [
    "print(f'Average MonthlyIncome = {df[\"MonthlyIncome\"].mean()}')\n",
    "print(f'Highest MonthlyIncome = {df[\"MonthlyIncome\"].max()}')\n",
    "print(f'Lowest MonthlyIncome = {df[\"MonthlyIncome\"].min()}')"
   ]
  },
  {
   "cell_type": "code",
   "execution_count": 16,
   "id": "e5aa1c10",
   "metadata": {},
   "outputs": [
    {
     "name": "stdout",
     "output_type": "stream",
     "text": [
      "Number of employees who might attrite due to salary lower than the average: 185\n"
     ]
    }
   ],
   "source": [
    "Average_MonthlyIncome = 6502.931292517007\n",
    "\n",
    "# Filter employees with 'Attrition' as 'Yes' and 'MonthlyIncome' lower than the average\n",
    "attrition_due_to_low_salary = df[(df['Attrition'] == 'Yes') & (df['MonthlyIncome'] < Average_MonthlyIncome)]\n",
    "\n",
    "# Count the number of such employees\n",
    "num_employees_attrite_due_to_low_salary = len(attrition_due_to_low_salary)\n",
    "\n",
    "# Display the result\n",
    "print(\"Number of employees who might attrite due to salary lower than the average:\", num_employees_attrite_due_to_low_salary)"
   ]
  },
  {
   "cell_type": "markdown",
   "id": "11fa35c3",
   "metadata": {},
   "source": [
    "# HOW MANY MALE AND FEMALE ARE WORKING IN THE COMPANY"
   ]
  },
  {
   "cell_type": "code",
   "execution_count": 50,
   "id": "b2ffede7",
   "metadata": {},
   "outputs": [],
   "source": [
    "Gender_count = df['Gender'].value_counts()"
   ]
  },
  {
   "cell_type": "code",
   "execution_count": 20,
   "id": "7317a799",
   "metadata": {},
   "outputs": [
    {
     "data": {
      "text/plain": [
       "Male      882\n",
       "Female    588\n",
       "Name: Gender, dtype: int64"
      ]
     },
     "execution_count": 20,
     "metadata": {},
     "output_type": "execute_result"
    }
   ],
   "source": [
    "Gender_count"
   ]
  },
  {
   "cell_type": "markdown",
   "id": "ed761f63",
   "metadata": {},
   "source": [
    "# HOW MANY MALE ARE ATTRITING"
   ]
  },
  {
   "cell_type": "code",
   "execution_count": 22,
   "id": "a67396de",
   "metadata": {},
   "outputs": [
    {
     "data": {
      "text/plain": [
       "150"
      ]
     },
     "execution_count": 22,
     "metadata": {},
     "output_type": "execute_result"
    }
   ],
   "source": [
    "# total male 882 are there in company so according to this\n",
    "\n",
    "male_attrition_count = len(df[(df['Gender'] == 'Male') & (df['Attrition'] == 'Yes')])\n",
    "male_attrition_count\n",
    "\n",
    "# by this from 882 how many will attrite"
   ]
  },
  {
   "cell_type": "markdown",
   "id": "5160c22a",
   "metadata": {},
   "source": [
    "# HOW MANY FEMALE ARE ATTRTITING"
   ]
  },
  {
   "cell_type": "code",
   "execution_count": 24,
   "id": "55f92545",
   "metadata": {},
   "outputs": [
    {
     "data": {
      "text/plain": [
       "87"
      ]
     },
     "execution_count": 24,
     "metadata": {},
     "output_type": "execute_result"
    }
   ],
   "source": [
    "# total female are 588 in company so according to this\n",
    "\n",
    "female_attrition_count = len(df[(df['Gender'] == 'Female') & (df['Attrition'] == 'Yes')])\n",
    "female_attrition_count\n",
    "\n",
    "# by this from 588 how many female will attrite"
   ]
  },
  {
   "cell_type": "markdown",
   "id": "b735d822",
   "metadata": {},
   "source": [
    "# JOB ATTRITION DUE TO LOWER WORK LIFE BALANCE THAN AVERAGE"
   ]
  },
  {
   "cell_type": "code",
   "execution_count": 25,
   "id": "3977860b",
   "metadata": {},
   "outputs": [
    {
     "name": "stdout",
     "output_type": "stream",
     "text": [
      "Average WorkLifeBalance = 2.7612244897959184\n",
      "Highest WorkLifeBalance = 4\n",
      "Lowest WorkLifeBalance = 1\n"
     ]
    }
   ],
   "source": [
    "print(f'Average WorkLifeBalance = {df[\"WorkLifeBalance\"].mean()}')\n",
    "print(f'Highest WorkLifeBalance = {df[\"WorkLifeBalance\"].max()}')\n",
    "print(f'Lowest WorkLifeBalance = {df[\"WorkLifeBalance\"].min()}')"
   ]
  },
  {
   "cell_type": "code",
   "execution_count": 27,
   "id": "882c9213",
   "metadata": {},
   "outputs": [
    {
     "name": "stdout",
     "output_type": "stream",
     "text": [
      "Number of employees who might attrite due to Work-Life Balance lower than the average: 83\n"
     ]
    }
   ],
   "source": [
    "# now we will find out that due to work life balance how many employ will attrite from the company\n",
    "\n",
    "average_worklife = 2.7612244897959184\n",
    "\n",
    "# Filter employees with 'Attrition' as 'Yes' and 'WorkLifeBalance' lower than the average\n",
    "attrition_due_to_worklife = df[(df['Attrition'] == 'Yes') & (df['WorkLifeBalance'] < average_worklife)]\n",
    "\n",
    "# Count the number of such employees\n",
    "num_employees_attrite = len(attrition_due_to_worklife)\n",
    "\n",
    "# Display the result\n",
    "print(\"Number of employees who might attrite due to Work-Life Balance lower than the average:\", num_employees_attrite)\n"
   ]
  },
  {
   "cell_type": "markdown",
   "id": "97e1d737",
   "metadata": {},
   "source": [
    "# HOW MANY MALE AND FEMALE ARE ATTRITING AND WHICH GENDER IS MOST LIKELY TO ATTRITE"
   ]
  },
  {
   "cell_type": "code",
   "execution_count": 42,
   "id": "c7b1cf95",
   "metadata": {},
   "outputs": [
    {
     "name": "stdout",
     "output_type": "stream",
     "text": [
      "Male employees are more likely to attrite.\n",
      "Attrition rate for male employees: 17.0%\n",
      "Attrition rate for female employees: 14.8%\n"
     ]
    }
   ],
   "source": [
    "# Now we will find out that how many male and female are attriting the company and which gender is more likely to attrite\n",
    "\n",
    "total_male_employees = len(df[df['Gender'] == 'Male']) # this will tell the how many male employs are there\n",
    "total_female_employees = len(df[df['Gender'] == 'Female']) # this will tell the how many female employs are there\n",
    "\n",
    "male_attrition_count = len(df[(df['Gender'] == 'Male') & (df['Attrition'] == 'Yes')]) # this will count that how many male are attriting\n",
    "female_attrition_count = len(df[(df['Gender'] == 'Female') & (df['Attrition'] == 'Yes')]) # this will count that how many female are attriting\n",
    "\n",
    "# Calculate the attrition rates for male and female employees\n",
    "male_attrition_rate = male_attrition_count / total_male_employees\n",
    "female_attrition_rate = female_attrition_count / total_female_employees\n",
    "\n",
    "# Compare and display the results\n",
    "if male_attrition_rate > female_attrition_rate:\n",
    "    print(\"Male employees are more likely to attrite.\")\n",
    "    print(f\"Attrition rate for male employees: {male_attrition_rate:.1%}\")\n",
    "    print(f\"Attrition rate for female employees: {female_attrition_rate:.1%}\")\n",
    "elif female_attrition_rate > male_attrition_rate:\n",
    "    print(\"Female employees are more likely to attrite.\")\n",
    "    print(f\"Attrition rate for female employees: {female_attrition_rate:.1%}\")\n",
    "    print(f\"Attrition rate for male employees: {male_attrition_rate:.1%}\")\n",
    "else:\n",
    "    print(\"Male and female employees have the same attrition rate.\")"
   ]
  },
  {
   "cell_type": "code",
   "execution_count": 43,
   "id": "992468ad",
   "metadata": {},
   "outputs": [
    {
     "name": "stdout",
     "output_type": "stream",
     "text": [
      "Average JobSatisfaction = 2.7285714285714286\n",
      "Highest JobSatisfaction = 4\n",
      "Lowest JobSatisfaction = 1\n"
     ]
    }
   ],
   "source": [
    "print(f'Average JobSatisfaction = {df[\"JobSatisfaction\"].mean()}')\n",
    "print(f'Highest JobSatisfaction = {df[\"JobSatisfaction\"].max()}')\n",
    "print(f'Lowest JobSatisfaction = {df[\"JobSatisfaction\"].min()}')"
   ]
  },
  {
   "cell_type": "markdown",
   "id": "26b38666",
   "metadata": {},
   "source": [
    "# JOB ATTRITION DUE TO LOWER THAN AVERAGE JOBSATISFICATION"
   ]
  },
  {
   "cell_type": "code",
   "execution_count": 47,
   "id": "e14fd34c",
   "metadata": {},
   "outputs": [],
   "source": [
    "average_JobSatisfaction = 2.7285714285714286\n",
    "\n",
    "# Filter employees with 'Attrition' as 'Yes' and 'WorkLifeBalance' lower than the average\n",
    "attrition_due_to_low_JobSatisfaction = df[(df['Attrition'] == 'Yes') & (df['JobSatisfaction'] < average_JobSatisfaction)]"
   ]
  },
  {
   "cell_type": "code",
   "execution_count": 48,
   "id": "3f381446",
   "metadata": {},
   "outputs": [],
   "source": [
    "num_employees_attrite = len(attrition_due_to_low_JobSatisfaction)"
   ]
  },
  {
   "cell_type": "code",
   "execution_count": 49,
   "id": "88cfd735",
   "metadata": {},
   "outputs": [
    {
     "name": "stdout",
     "output_type": "stream",
     "text": [
      "Attrition due to lower Jobsatisfication than average : 112\n"
     ]
    }
   ],
   "source": [
    "print(\"Attrition due to lower Jobsatisfication than average :\",num_employees_attrite)"
   ]
  },
  {
   "cell_type": "code",
   "execution_count": null,
   "id": "9380ae04",
   "metadata": {},
   "outputs": [],
   "source": []
  }
 ],
 "metadata": {
  "kernelspec": {
   "display_name": "Python 3 (ipykernel)",
   "language": "python",
   "name": "python3"
  },
  "language_info": {
   "codemirror_mode": {
    "name": "ipython",
    "version": 3
   },
   "file_extension": ".py",
   "mimetype": "text/x-python",
   "name": "python",
   "nbconvert_exporter": "python",
   "pygments_lexer": "ipython3",
   "version": "3.11.4"
  }
 },
 "nbformat": 4,
 "nbformat_minor": 5
}
