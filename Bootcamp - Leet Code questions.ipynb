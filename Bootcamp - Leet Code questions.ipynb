{
 "cells": [
  {
   "cell_type": "code",
   "execution_count": 5,
   "id": "aa70b017",
   "metadata": {},
   "outputs": [
    {
     "name": "stdout",
     "output_type": "stream",
     "text": [
      "37\n"
     ]
    }
   ],
   "source": [
    "class Solution(object):\n",
    "    def totalMoney(self, n):\n",
    "        week_count = n // 7\n",
    "        remaining_days = n % 7\n",
    "        \n",
    "        total = ((week_count * (week_count - 1)) // 2) * 7 \n",
    "        total += week_count * 28\n",
    "        total += ((remaining_days * (remaining_days + 1)) // 2) + (week_count * remaining_days)\n",
    "        \n",
    "        return total\n",
    "ob = Solution()\n",
    "\n",
    "print(ob.totalMoney(10))\n",
    "\n"
   ]
  },
  {
   "cell_type": "code",
   "execution_count": 13,
   "id": "8effff58",
   "metadata": {},
   "outputs": [
    {
     "data": {
      "text/plain": [
       "1"
      ]
     },
     "execution_count": 13,
     "metadata": {},
     "output_type": "execute_result"
    }
   ],
   "source": [
    "def totalMoney(n: int) -> int:\n",
    "    day = 10 \n",
    "    initial_amount = 1\n",
    "    total = 0\n",
    "    \n",
    "    while(day<=n):\n",
    "        total = total+initial_amount\n",
    "        initial_amount +=1\n",
    "        day +=1\n",
    "        \n",
    "        if day%7==0:\n",
    "            initial_amount = 1+day//7\n",
    "        \n",
    "        return(total)\n",
    "        \n",
    "totalMoney(15)"
   ]
  },
  {
   "cell_type": "code",
   "execution_count": 17,
   "id": "4a0ce5ea",
   "metadata": {},
   "outputs": [
    {
     "name": "stdout",
     "output_type": "stream",
     "text": [
      "2 3\n"
     ]
    }
   ],
   "source": [
    "import array as arr\n",
    "ar = arr.array('i',[10,20,30,10])\n",
    "target = 40\n",
    "for i in range(len(ar)):\n",
    "    if ar[i] + ar[i+1] == target:\n",
    "        print(i,i+1)\n",
    "        break"
   ]
  },
  {
   "cell_type": "code",
   "execution_count": 28,
   "id": "5b4e99f0",
   "metadata": {},
   "outputs": [
    {
     "name": "stdout",
     "output_type": "stream",
     "text": [
      "2\n",
      "11\n"
     ]
    },
    {
     "data": {
      "text/plain": [
       "[0, 2]"
      ]
     },
     "execution_count": 28,
     "metadata": {},
     "output_type": "execute_result"
    }
   ],
   "source": [
    "# [2,7,11,15]\n",
    "\n",
    "def twosum(nums, target: int):\n",
    "    mydictionary = {}\n",
    "    for index, curr_data in enumerate(nums):\n",
    "        if target-curr_data in mydictionary:\n",
    "            return[mydictionary[target-curr_data] ,index]\n",
    "        elif curr_data not in mydictionary:\n",
    "            mydictionary[curr_data] = index\n",
    "        print(curr_data)\n",
    "        \n",
    "twosum([2,11,7,15],9)"
   ]
  },
  {
   "cell_type": "code",
   "execution_count": 32,
   "id": "f198c0b0",
   "metadata": {},
   "outputs": [],
   "source": [
    "# for index in enumerate([10,20,30,40]):     # enum give \n",
    "#     index ,value= data\n",
    "# #     print(data)"
   ]
  },
  {
   "cell_type": "code",
   "execution_count": 33,
   "id": "6c1e205a",
   "metadata": {},
   "outputs": [],
   "source": [
    "# for index, curr_data in enumerate(nums):\n",
    "        \n",
    "#         # 9-7 => 2\n",
    "#     if target-curr_data in mydictionary:\n",
    "#         return [ mydictionary[target-curr_data],    index]\n",
    "         \n",
    "#         # 2\n",
    "#     elif curr_data  not in mydictionary:\n",
    "#         mydictionary[curr_data]=index"
   ]
  },
  {
   "cell_type": "code",
   "execution_count": null,
   "id": "864f8f9a",
   "metadata": {},
   "outputs": [],
   "source": []
  }
 ],
 "metadata": {
  "kernelspec": {
   "display_name": "Python 3 (ipykernel)",
   "language": "python",
   "name": "python3"
  },
  "language_info": {
   "codemirror_mode": {
    "name": "ipython",
    "version": 3
   },
   "file_extension": ".py",
   "mimetype": "text/x-python",
   "name": "python",
   "nbconvert_exporter": "python",
   "pygments_lexer": "ipython3",
   "version": "3.11.4"
  }
 },
 "nbformat": 4,
 "nbformat_minor": 5
}
